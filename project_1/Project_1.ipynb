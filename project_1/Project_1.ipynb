{
 "cells": [
  {
   "cell_type": "markdown",
   "metadata": {},
   "source": [
    "# Project 1, W200 Berkeley MIDS Fall 2018: \n",
    "\n",
    "The upcoming project as stated in the syllabus is an individual project that will focus on the object-oriented principles that we have covered (and will cover) in class. You will be implementing a small, object-oriented project of your choosing.\n",
    "\n",
    "\n",
    "Examples might include:\n",
    "\n",
    "- An ATM (down to handling checks/cash/deposits etc)\n",
    "- A flower shop (you create and manage inventory, a simple cash register, etc.)\n",
    "- An adventure game where characters can do things like 1) explore a world 2) trade with other characters. Coding  some element of chance into the world has made these even more interesting.\n",
    "- Something relating to your everyday work, maybe some process you would like to model or code up\n",
    "\n",
    "Your project should implement object oriented principles and should be interactive so that one can play around with it. The code base should be entirely composed of objects.\n",
    "\n",
    "for the first step, your assignment is to write up a one page design document detailing the project you will be working on over the next several weeks. This is essentially building out the requirements for your project. **Before you begin coding you need to get approval from Gunnar, Chris, Richard or Gerry that your project is scoped well enough.** \n",
    "\n",
    "\n",
    "## Project Phases\n",
    "\n",
    "This assignment will be completed in 3 parts:\n",
    "\n",
    "- Week 6: Project Design Document - Rough Idea\n",
    "    - Feel free to email Chris, Gerry Richard or Gunnar your project idea (a paragraph or two) for email feedback.\n",
    "- Week 7: Begin Coding, Finalize Design Document (due 10/22-10/25 based on section)\n",
    "    - Live session 7 will include breakout rooms where you share code and get peer/teacher feedback\n",
    "- Weeks 8 & 9: Project due when class starts (due 11/12-11/15 based on section) \n",
    "    - Projects should be complete prior to class, but students will be allowed to update their projects for the next 24 hours after to make adjustments as needed based on class feedback.\n",
    "\n",
    "\n",
    "## What should go in the design document:\n",
    "\n",
    "In this document, you can write a specification of the classes you want to write and what you intend to implement. You should not be writing any code at this point (as we haven't approved the project) although you may do some degree of pseudo-code. You can model the program structure by saying what classes you think you're going to implement and how the user will interact with it. Also include the features that you're going to include in the project and why you think it should be of sufficient complexity to meet the project goals.\n",
    "\n",
    "A final version of your design document is due via your GitHub project_1 folder due 10/22-10/25 based on section).\n",
    "\n",
    "\n",
    "## Assignment Breakdown\n",
    "\n",
    "This is a personal exercise to stretch your own limits and exercise your own creativity. While students come from diverse backgrounds, we feel that the entire class is ready for the challenge. As mentioned above we will provide one on one feedback from the instructors and you will also work with your peers to sketch through your ideas and organizational structure in class.\n",
    "\n",
    "We will allow for rolling design documentation submissions over the course of the next week, please keep a copy in your github and **EMAIL your instructor** when you're ready for them to review it. We will do out best to get back to you as soon as possible. This is not a requirement, just available for those that want some feedback earlier rather than later.\n",
    "\n",
    "\n",
    "## Requirements & Limits\n",
    "\n",
    "You should aim for around 300 to 500 lines of code. You will not be graded on the number of lines of code you write nor will this be a comparison of projects implemented by your peers. For example, a project with 500 lines of code is not guaranteed to do better than a project with 300 lines of code. As we've seen, it's not necessarily the number of lines, it's the value in those lines. Being concise is a good thing and if you're at all worried that you're not going to hit that *soft* requirement please let us know.\n",
    "\n",
    "- **This project should be composed entirely of objects, with only scripting outside of objects when absolutely necessary**\n",
    "- This project must not exceed 750 lines of code, if you have a text game put the text in a separate file\n",
    "- You are not likely to need more than 10 classes, We would like to see at least 3\n",
    "- The objects should be different levels of complexity, for example some may be basic containers and others should manage those containers (i.e. a menu-serving object and/or a gameplay object)\n",
    "- Without specific permission, You may **not** use anything outside of the anaconda library. Please include all references that you used to build out your application.\n",
    "- Included with the code you should do a ~one page write up of what you completed, any you challenges you faced, as well as how we should go about testing and using your project.git"
   ]
  },
  {
   "cell_type": "code",
   "execution_count": null,
   "metadata": {
    "collapsed": true
   },
   "outputs": [],
   "source": []
  }
 ],
 "metadata": {
  "anaconda-cloud": {},
  "kernelspec": {
   "display_name": "Python 3",
   "language": "python",
   "name": "python3"
  },
  "language_info": {
   "codemirror_mode": {
    "name": "ipython",
    "version": 3
   },
   "file_extension": ".py",
   "mimetype": "text/x-python",
   "name": "python",
   "nbconvert_exporter": "python",
   "pygments_lexer": "ipython3",
   "version": "3.6.1"
  }
 },
 "nbformat": 4,
 "nbformat_minor": 1
}
