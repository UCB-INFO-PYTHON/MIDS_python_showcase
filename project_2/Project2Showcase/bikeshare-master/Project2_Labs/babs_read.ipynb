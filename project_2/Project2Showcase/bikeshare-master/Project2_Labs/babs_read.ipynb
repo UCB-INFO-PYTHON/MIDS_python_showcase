{
 "cells": [
  {
   "cell_type": "code",
   "execution_count": 1,
   "metadata": {
    "collapsed": false
   },
   "outputs": [
    {
     "ename": "ImportError",
     "evalue": "No module named 'pysal'",
     "output_type": "error",
     "traceback": [
      "\u001b[1;31m---------------------------------------------------------------------------\u001b[0m",
      "\u001b[1;31mImportError\u001b[0m                               Traceback (most recent call last)",
      "\u001b[1;32m<ipython-input-1-0183c1a892cf>\u001b[0m in \u001b[0;36m<module>\u001b[1;34m()\u001b[0m\n\u001b[0;32m     11\u001b[0m \u001b[1;31m#from shapely.prepared import prep\u001b[0m\u001b[1;33m\u001b[0m\u001b[1;33m\u001b[0m\u001b[0m\n\u001b[0;32m     12\u001b[0m \u001b[1;31m#from mpl_toolkits import basemap\u001b[0m\u001b[1;33m\u001b[0m\u001b[1;33m\u001b[0m\u001b[0m\n\u001b[1;32m---> 13\u001b[1;33m \u001b[1;32mfrom\u001b[0m \u001b[0mpysal\u001b[0m\u001b[1;33m.\u001b[0m\u001b[0mesda\u001b[0m\u001b[1;33m.\u001b[0m\u001b[0mmapclassify\u001b[0m \u001b[1;32mimport\u001b[0m \u001b[0mNatural_Breaks\u001b[0m \u001b[1;32mas\u001b[0m \u001b[0mnb\u001b[0m\u001b[1;33m\u001b[0m\u001b[0m\n\u001b[0m\u001b[0;32m     14\u001b[0m \u001b[1;32mfrom\u001b[0m \u001b[0mdescartes\u001b[0m \u001b[1;32mimport\u001b[0m \u001b[0mPolygonPatch\u001b[0m\u001b[1;33m\u001b[0m\u001b[0m\n\u001b[0;32m     15\u001b[0m \u001b[1;32mimport\u001b[0m \u001b[0mfiona\u001b[0m\u001b[1;33m\u001b[0m\u001b[0m\n",
      "\u001b[1;31mImportError\u001b[0m: No module named 'pysal'"
     ]
    }
   ],
   "source": [
    "## load the library\n",
    "\n",
    "from pandas import DataFrame, read_csv\n",
    "import pandas as pd\n",
    "import numpy as np\n",
    "import matplotlib.pyplot as plt\n",
    "import ggplot\n",
    "from ggplot import *\n",
    "from matplotlib.collections import PatchCollection\n",
    "#from shapely.geometry import Point, Polygon, MultiPoint, MultiPolygon\n",
    "#from shapely.prepared import prep\n",
    "#from mpl_toolkits import basemap\n",
    "from pysal.esda.mapclassify import Natural_Breaks as nb\n",
    "from descartes import PolygonPatch\n",
    "import fiona\n",
    "from itertools import chain\n",
    "from lxml import etree\n",
    "import matplotlib.cm as cm\n",
    "import plotly.plotly as py\n",
    "import plotly.graph_objs as go\n",
    "from plotly.graph_objs import *\n",
    "from dateutil.parser import parse\n",
    "import random\n",
    "import seaborn as sns\n",
    "%matplotlib inline\n",
    "\n"
   ]
  },
  {
   "cell_type": "code",
   "execution_count": null,
   "metadata": {
    "collapsed": false
   },
   "outputs": [],
   "source": [
    "weather = pd.read_csv('./data/weather_data_new.csv', parse_dates=['date'])"
   ]
  },
  {
   "cell_type": "code",
   "execution_count": null,
   "metadata": {
    "collapsed": true
   },
   "outputs": [],
   "source": [
    "station = pd.read_csv('./data/station_data_new.csv', parse_dates=['install_date'])"
   ]
  },
  {
   "cell_type": "code",
   "execution_count": null,
   "metadata": {
    "collapsed": true
   },
   "outputs": [],
   "source": [
    "trip = pd.read_csv('./data/trip_data_new.csv', parse_dates=['start_dt'])"
   ]
  },
  {
   "cell_type": "code",
   "execution_count": null,
   "metadata": {
    "collapsed": true
   },
   "outputs": [],
   "source": [
    "status = status_data.to_csv('./data/status_data_new.csv', parse_dates=['date'])"
   ]
  }
 ],
 "metadata": {
  "kernelspec": {
   "display_name": "Python 3",
   "language": "python",
   "name": "python3"
  },
  "language_info": {
   "codemirror_mode": {
    "name": "ipython",
    "version": 3
   },
   "file_extension": ".py",
   "mimetype": "text/x-python",
   "name": "python",
   "nbconvert_exporter": "python",
   "pygments_lexer": "ipython3",
   "version": "3.5.1"
  }
 },
 "nbformat": 4,
 "nbformat_minor": 0
}
