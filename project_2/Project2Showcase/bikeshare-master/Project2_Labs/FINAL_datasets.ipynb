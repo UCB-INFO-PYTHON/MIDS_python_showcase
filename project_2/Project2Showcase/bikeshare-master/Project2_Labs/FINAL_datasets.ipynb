{
 "cells": [
  {
   "cell_type": "markdown",
   "metadata": {},
   "source": [
    "# Bay Area Bikeshare: Raw Data\n",
    "https://www.dropbox.com/s/jb3q97i27ujtxsg/babs.zip?dl=0"
   ]
  },
  {
   "cell_type": "code",
   "execution_count": 41,
   "metadata": {
    "collapsed": true
   },
   "outputs": [],
   "source": [
    "from datetime import datetime, date, time\n",
    "from pandas import DataFrame, read_csv\n",
    "import pandas as pd\n",
    "import numpy as np\n",
    "import matplotlib.pyplot as plt\n",
    "%matplotlib inline\n",
    "from ggplot import *"
   ]
  },
  {
   "cell_type": "code",
   "execution_count": 42,
   "metadata": {
    "collapsed": true
   },
   "outputs": [],
   "source": [
    "# lambdas & functions\n",
    "lambda_city = lambda x: station_data['city'].ix[x]\n",
    "\n",
    "def convert_float(val):\n",
    "    try:\n",
    "        return float(val)\n",
    "    except ValueError:\n",
    "        return 0\n",
    "\n",
    "# dictionary reference\n",
    "seasons_dict = {\n",
    "    1: 'Winter',2: 'Spring',3: 'Spring',4: 'Spring',\n",
    "    5: 'Summer',6: 'Summer',7: 'Summer',8: 'Autumn',\n",
    "    9: 'Autumn',10: 'Autumn',11: 'Winter',12: 'Winter'}\n",
    "\n",
    "city_dict = {\n",
    "    94107: 'San Francisco',\n",
    "    94063: 'Redwood City',\n",
    "    94301: 'Palo Alto', \n",
    "    94041: 'Mountain View', \n",
    "    95113: 'San Jose'}\n",
    "\n",
    "# header reference\n",
    "station_headers = ['station_id','station_name','lat','long',\n",
    "                   'dock_count','city','install_date']\n",
    "\n",
    "status_headers = ['station_id','bikes_free','docks_free','time']\n",
    "\n",
    "trip_headers = ['trip_id','trip_time',\n",
    "                'start_dt','start_station','start_id',\n",
    "                'end_dt','end_station','end_id',\n",
    "                'bike_num','user_type','ZIP']\n",
    "\n",
    "weather_headers = ['date',\n",
    "                   'max_temp','mean_temp','min_temp',\n",
    "                   'max_dp','mean_dp','min_dp',\n",
    "                   'max_hum','mean_hum','min_hum',\n",
    "                   'max_sea','mean_sea','min_sea',\n",
    "                   'max_vis','mean_vis','min_vis',\n",
    "                   'max_wind','mean_wind','max_gust',\n",
    "                   'rain_inches','cloud_cover','events',\n",
    "                   'wind_dir_degrees','ZIP']"
   ]
  },
  {
   "cell_type": "code",
   "execution_count": 43,
   "metadata": {
    "collapsed": false
   },
   "outputs": [],
   "source": [
    "# STATION_DATA\n",
    "station_data = pd.read_csv('201508_station_data.csv')\n",
    "station_data.columns = station_headers\n",
    "station_data = station_data.sort_values('station_id',ascending=True)\n",
    "# current merged station dataset\n",
    "station_data = station_data.set_index('station_id',drop=True)"
   ]
  },
  {
   "cell_type": "code",
   "execution_count": 51,
   "metadata": {
    "collapsed": false
   },
   "outputs": [],
   "source": [
    "# STATUS_DATA\n",
    "raw_data_1 = pd.read_csv('201402_status_data.csv', parse_dates=['time'])\n",
    "raw_data_1.columns = status_headers\n",
    "raw_data_2 = pd.read_csv('201408_status_data.csv', parse_dates=['time'])\n",
    "raw_data_2.columns = status_headers\n",
    "raw_data_3 = pd.read_csv('201508_status_data.csv', parse_dates=['time'])\n",
    "raw_data_3.columns = status_headers\n",
    "# current merged status dataset\n",
    "status_data = pd.concat([raw_data_1, raw_data_2, raw_data_3])\n",
    "# added columns to status_data\n",
    "status_data['season'] = status_data['time'].dt.month.map(seasons_dict)\n",
    "status_data['date'] = status_data['time'].dt.date\n",
    "status_data['weekday'] = status_data['time'].dt.weekday_name"
   ]
  },
  {
   "cell_type": "code",
   "execution_count": 49,
   "metadata": {
    "collapsed": false
   },
   "outputs": [],
   "source": [
    "# TRIP_DATA\n",
    "raw_data_1a = pd.read_csv('201402_trip_data.csv', parse_dates=['Start Date'])\n",
    "raw_data_1a.columns = trip_headers\n",
    "raw_data_2a = pd.read_csv('201408_trip_data.csv', parse_dates=['Start Date'])\n",
    "raw_data_2a.columns = trip_headers\n",
    "raw_data_3a = pd.read_csv('201508_trip_data.csv', parse_dates=['Start Date'])\n",
    "raw_data_3a.columns = trip_headers\n",
    "# current merged trip dataset\n",
    "trip_data = pd.concat([raw_data_1a, raw_data_2a, raw_data_3a])\n",
    "# added columns to trip_data\n",
    "trip_data['start_city'] = trip_data['start_id'].map(lambda_city)\n",
    "trip_data['end_city'] = trip_data['end_id'].map(lambda_city)\n",
    "trip_data['date'] = trip_data['start_dt'].dt.date\n",
    "trip_data['weekday'] = trip_data['start_dt'].dt.weekday_name\n",
    "# dropped columns from trip_data\n",
    "trip_data.drop('ZIP', axis=1, inplace=True)\n",
    "# sorting & dropping & reformatting\n",
    "trip_data = trip_data.set_index(pd.DatetimeIndex(trip_data['date']))\n",
    "trip_data = trip_data.drop(['2013-08-29','2013-08-30','2013-08-31'])\n",
    "trip_data = trip_data.sort_values('date', ascending=True)"
   ]
  },
  {
   "cell_type": "code",
   "execution_count": 50,
   "metadata": {
    "collapsed": false
   },
   "outputs": [],
   "source": [
    "# WEATHER_DATA\n",
    "raw_data_1b = pd.read_csv('201402_weather_data.csv', parse_dates=['Date'])\n",
    "raw_data_1b.columns = weather_headers\n",
    "raw_data_2b = pd.read_csv('201408_weather_data.csv', parse_dates=['PDT'])\n",
    "raw_data_2b.columns = weather_headers\n",
    "raw_data_3b = pd.read_csv('201508_weather_data.csv', parse_dates=['PDT'])\n",
    "raw_data_3b.columns = weather_headers\n",
    "# current merged weather dataset\n",
    "weather_data = pd.concat([raw_data_1b, raw_data_2b, raw_data_3b])\n",
    "# added columns to weather_data\n",
    "weather_data['season'] = weather_data['date'].dt.month.map(seasons_dict)\n",
    "weather_data['city'] = weather_data['ZIP'].map(city_dict)\n",
    "weather_data['date'] = pd.to_datetime(weather_data['date'])\n",
    "weather_data['day_of_week'] = weather_data['date'].dt.weekday_name\n",
    "# scrubbed columns from weather_data\n",
    "weather_data['rain_inches'] = weather_data['rain_inches'].map(convert_float)\n",
    "# dropped columns from weather_data\n",
    "weather_data.drop(['events'], axis=1, inplace=True)\n",
    "# index on weather_data\n",
    "weather_data.set_index('date',drop=True,inplace=True)\n",
    "# sorting & dropping & reformatting\n",
    "weather_data = weather_data.sort_index(axis=0, ascending=True)\n",
    "weather_data = weather_data.drop(['2013-08-29','2013-08-30','2013-08-31'])\n",
    "# fill NaN = '' \n",
    "weather_data = weather_data.fillna('')"
   ]
  },
  {
   "cell_type": "code",
   "execution_count": 18,
   "metadata": {
    "collapsed": true
   },
   "outputs": [],
   "source": [
    "# ./data subdirectory\n",
    "# skip to next cell if it already exists\n",
    "!mkdir data"
   ]
  },
  {
   "cell_type": "code",
   "execution_count": 52,
   "metadata": {
    "collapsed": false
   },
   "outputs": [],
   "source": [
    "# final output\n",
    "station_data.to_csv('./data/station_data_new.csv')"
   ]
  },
  {
   "cell_type": "code",
   "execution_count": 53,
   "metadata": {
    "collapsed": true
   },
   "outputs": [],
   "source": [
    "# final output\n",
    "weather_data.to_csv('./data/weather_data_new.csv')"
   ]
  },
  {
   "cell_type": "code",
   "execution_count": 56,
   "metadata": {
    "collapsed": true
   },
   "outputs": [],
   "source": [
    "# final output\n",
    "trip_data.to_csv('./data/trip_data_new.csv',header=True,cols=['trip_id','trip_time',\n",
    "                'start_dt','start_station','start_id',\n",
    "                'end_dt','end_station','end_id',\n",
    "                'bike_num','user_type','ZIP'], parse_dates=['start_dt'])"
   ]
  },
  {
   "cell_type": "code",
   "execution_count": 57,
   "metadata": {
    "collapsed": false,
    "scrolled": false
   },
   "outputs": [],
   "source": [
    "# final output\n",
    "status_data.to_csv('./data/status_data_new.csv', parse_dates=['date'])"
   ]
  },
  {
   "cell_type": "code",
   "execution_count": 45,
   "metadata": {
    "collapsed": false
   },
   "outputs": [],
   "source": [
    "weathers = pd.read_csv('./data/weather_data_new.csv', parse_dates=['date'])"
   ]
  },
  {
   "cell_type": "code",
   "execution_count": 48,
   "metadata": {
    "collapsed": true
   },
   "outputs": [],
   "source": []
  },
  {
   "cell_type": "code",
   "execution_count": null,
   "metadata": {
    "collapsed": false
   },
   "outputs": [],
   "source": []
  }
 ],
 "metadata": {
  "kernelspec": {
   "display_name": "Python 3",
   "language": "python",
   "name": "python3"
  },
  "language_info": {
   "codemirror_mode": {
    "name": "ipython",
    "version": 3
   },
   "file_extension": ".py",
   "mimetype": "text/x-python",
   "name": "python",
   "nbconvert_exporter": "python",
   "pygments_lexer": "ipython3",
   "version": "3.5.1"
  }
 },
 "nbformat": 4,
 "nbformat_minor": 0
}
