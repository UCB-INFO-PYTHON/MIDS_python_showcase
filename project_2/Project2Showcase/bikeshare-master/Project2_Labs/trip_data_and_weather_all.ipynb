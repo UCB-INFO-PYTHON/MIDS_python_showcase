{
 "cells": [
  {
   "cell_type": "markdown",
   "metadata": {},
   "source": [
    "# The code here is to combine weather data and trip data"
   ]
  },
  {
   "cell_type": "code",
   "execution_count": 1,
   "metadata": {
    "collapsed": false
   },
   "outputs": [],
   "source": [
    "from datetime import datetime, date, time\n",
    "from pandas import DataFrame, read_csv\n",
    "import pandas as pd\n",
    "import numpy as np\n",
    "import matplotlib.pyplot as plt\n",
    "%matplotlib inline\n",
    "#from ggplot import *"
   ]
  },
  {
   "cell_type": "code",
   "execution_count": 2,
   "metadata": {
    "collapsed": true
   },
   "outputs": [],
   "source": [
    "# lambdas & functions\n",
    "lambda_city = lambda x: station_data['city'].ix[x]\n",
    "\n",
    "def convert_float(val):\n",
    "    try:\n",
    "        return float(val)\n",
    "    except ValueError:\n",
    "        return 0\n",
    "\n",
    "# dictionary reference\n",
    "seasons_dict = {\n",
    "    1: 'Winter',2: 'Spring',3: 'Spring',4: 'Spring',\n",
    "    5: 'Summer',6: 'Summer',7: 'Summer',8: 'Autumn',\n",
    "    9: 'Autumn',10: 'Autumn',11: 'Winter',12: 'Winter'}\n",
    "\n",
    "city_dict = {\n",
    "    94107: 'San Francisco',\n",
    "    94063: 'Redwood City',\n",
    "    94301: 'Palo Alto', \n",
    "    94041: 'Mountain View', \n",
    "    95113: 'San Jose'}\n",
    "\n",
    "# header reference\n",
    "station_headers = ['station_id','station_name','lat','long',\n",
    "                   'dock_count','city','install_date']\n",
    "\n",
    "status_headers = ['station_id','bikes_free','docks_free','time']\n",
    "\n",
    "trip_headers = ['trip_id','trip_time',\n",
    "                'start_dt','start_station','start_id',\n",
    "                'end_dt','end_station','end_id',\n",
    "                'bike_num','user_type','ZIP']\n",
    "\n",
    "weather_headers = ['date',\n",
    "                   'max_temp','mean_temp','min_temp',\n",
    "                   'max_dp','mean_dp','min_dp',\n",
    "                   'max_hum','mean_hum','min_hum',\n",
    "                   'max_sea','mean_sea','min_sea',\n",
    "                   'max_vis','mean_vis','min_vis',\n",
    "                   'max_wind','mean_wind','max_gust',\n",
    "                   'rain_inches','cloud_cover','events',\n",
    "                   'wind_dir_degrees','ZIP']"
   ]
  },
  {
   "cell_type": "markdown",
   "metadata": {},
   "source": [
    "## Weather data"
   ]
  },
  {
   "cell_type": "code",
   "execution_count": 3,
   "metadata": {
    "collapsed": false
   },
   "outputs": [],
   "source": [
    "# read weather data\n",
    "weather_data = pd.read_csv('weather_data_new.csv', parse_dates=['date'])\n",
    "weather_data['season'] = weather_data['date'].dt.month.map(seasons_dict)\n",
    "weather_data['city'] = weather_data['ZIP'].map(city_dict)\n",
    "# scrubbed columns from weather_data\n",
    "weather_data['rain_inches'] = weather_data['rain_inches'].map(convert_float)"
   ]
  },
  {
   "cell_type": "code",
   "execution_count": 4,
   "metadata": {
    "collapsed": true
   },
   "outputs": [],
   "source": [
    "import datetime"
   ]
  },
  {
   "cell_type": "code",
   "execution_count": 5,
   "metadata": {
    "collapsed": false
   },
   "outputs": [
    {
     "name": "stderr",
     "output_type": "stream",
     "text": [
      "//anaconda/lib/python3.5/site-packages/ipykernel/__main__.py:6: SettingWithCopyWarning: \n",
      "A value is trying to be set on a copy of a slice from a DataFrame.\n",
      "Try using .loc[row_indexer,col_indexer] = value instead\n",
      "\n",
      "See the caveats in the documentation: http://pandas.pydata.org/pandas-docs/stable/indexing.html#indexing-view-versus-copy\n",
      "//anaconda/lib/python3.5/site-packages/ipykernel/__main__.py:7: SettingWithCopyWarning: \n",
      "A value is trying to be set on a copy of a slice from a DataFrame.\n",
      "Try using .loc[row_indexer,col_indexer] = value instead\n",
      "\n",
      "See the caveats in the documentation: http://pandas.pydata.org/pandas-docs/stable/indexing.html#indexing-view-versus-copy\n"
     ]
    }
   ],
   "source": [
    "# split weather data to 2014 and 2015\n",
    "weather_2015 = weather_data[weather_data['date'] >='2014-09-01']\n",
    "weather_2014 = weather_data[weather_data['date'] <'2014-09-01']\n",
    "\n",
    "# label the datasets by month\n",
    "weather_2014['month'] = weather_2014['date'].dt.month\n",
    "weather_2015['month'] = weather_2015['date'].dt.month\n"
   ]
  },
  {
   "cell_type": "code",
   "execution_count": 6,
   "metadata": {
    "collapsed": false
   },
   "outputs": [],
   "source": [
    "# create a new dataframe that contains only the info that I need (month, season, avg_tem)\n",
    "weather_2014_for_me = weather_2014[['date', 'mean_temp','mean_wind','season', 'city','month']]\n",
    "weather_2015_for_me = weather_2015[['date', 'mean_temp','mean_wind','season', 'city','month']]"
   ]
  },
  {
   "cell_type": "code",
   "execution_count": 261,
   "metadata": {
    "collapsed": false
   },
   "outputs": [],
   "source": [
    "# functions used to create frames for each month\n",
    "def trip_count_to_frame(data, column, elem):\n",
    "    temp = data[data[column] == elem].groupby('user_type')['date'].count()\n",
    "    temp = temp.to_frame(name=elem).T\n",
    "    return temp\n",
    "\n",
    "def add_avg_temp_to_data(data, data_add,column_name, sort_range):\n",
    "    for i in sort_range:\n",
    "        avg_temp = data[data[column_name] == i]['mean_temp'].mean()\n",
    "        data_add['mean_temp'].loc[i] = avg_temp        \n",
    "    return data_add\n",
    "# define sort_range\n",
    "sort_range_month = [9, 10, 11, 12, 1, 2, 3, 4, 5, 6, 7, 8]  # sort_range for month"
   ]
  },
  {
   "cell_type": "markdown",
   "metadata": {},
   "source": [
    "## Trip data"
   ]
  },
  {
   "cell_type": "code",
   "execution_count": 9,
   "metadata": {
    "collapsed": false
   },
   "outputs": [],
   "source": [
    "# read trip data and split it for 2014 and 2015\n",
    "trip_data = pd.read_csv('trip_data_new.csv', parse_dates = ['date'])\n",
    "trip_data_2014 = trip_data[trip_data['date'] < '2014-09-01']\n",
    "trip_data_2015 = trip_data[trip_data['date'] >= '2014-09-01']"
   ]
  },
  {
   "cell_type": "code",
   "execution_count": 10,
   "metadata": {
    "collapsed": false
   },
   "outputs": [
    {
     "name": "stderr",
     "output_type": "stream",
     "text": [
      "//anaconda/lib/python3.5/site-packages/ipykernel/__main__.py:2: SettingWithCopyWarning: \n",
      "A value is trying to be set on a copy of a slice from a DataFrame.\n",
      "Try using .loc[row_indexer,col_indexer] = value instead\n",
      "\n",
      "See the caveats in the documentation: http://pandas.pydata.org/pandas-docs/stable/indexing.html#indexing-view-versus-copy\n",
      "  from ipykernel import kernelapp as app\n",
      "//anaconda/lib/python3.5/site-packages/ipykernel/__main__.py:3: SettingWithCopyWarning: \n",
      "A value is trying to be set on a copy of a slice from a DataFrame.\n",
      "Try using .loc[row_indexer,col_indexer] = value instead\n",
      "\n",
      "See the caveats in the documentation: http://pandas.pydata.org/pandas-docs/stable/indexing.html#indexing-view-versus-copy\n",
      "  app.launch_new_instance()\n",
      "//anaconda/lib/python3.5/site-packages/ipykernel/__main__.py:4: SettingWithCopyWarning: \n",
      "A value is trying to be set on a copy of a slice from a DataFrame.\n",
      "Try using .loc[row_indexer,col_indexer] = value instead\n",
      "\n",
      "See the caveats in the documentation: http://pandas.pydata.org/pandas-docs/stable/indexing.html#indexing-view-versus-copy\n",
      "//anaconda/lib/python3.5/site-packages/ipykernel/__main__.py:5: SettingWithCopyWarning: \n",
      "A value is trying to be set on a copy of a slice from a DataFrame.\n",
      "Try using .loc[row_indexer,col_indexer] = value instead\n",
      "\n",
      "See the caveats in the documentation: http://pandas.pydata.org/pandas-docs/stable/indexing.html#indexing-view-versus-copy\n"
     ]
    }
   ],
   "source": [
    "# label the trip datasets by month\n",
    "trip_data_2014['month'] = trip_data_2014['date'].dt.month\n",
    "trip_data_2015['month'] = trip_data_2015['date'].dt.month\n",
    "trip_data_2014['trip_time'] = trip_data_2014['trip_time'] / 60   # concert trip time unit to minute\n",
    "trip_data_2015['trip_time'] = trip_data_2015['trip_time'] / 60  "
   ]
  },
  {
   "cell_type": "code",
   "execution_count": 11,
   "metadata": {
    "collapsed": false
   },
   "outputs": [],
   "source": [
    "# create a new dataframe that contains only the info that I need (month, season, trip time, user type, city)\n",
    "trip_data_2014_for_me = trip_data_2014[['date', 'trip_time','user_type','start_city', 'month']]\n",
    "trip_data_2015_for_me = trip_data_2015[['date', 'trip_time','user_type','start_city','month']]"
   ]
  },
  {
   "cell_type": "markdown",
   "metadata": {},
   "source": [
    "## Weather and trip data together per city"
   ]
  },
  {
   "cell_type": "markdown",
   "metadata": {},
   "source": [
    "### San Francisco 2014"
   ]
  },
  {
   "cell_type": "code",
   "execution_count": 13,
   "metadata": {
    "collapsed": false
   },
   "outputs": [],
   "source": [
    "# sf weather and trip data\n",
    "SF_weather_2014 = weather_2014_for_me[weather_2014_for_me['city']=='San Francisco']\n",
    "SF_trip_data_2014 = trip_data_2014_for_me[trip_data_2014_for_me['start_city'] =='San Francisco']\n",
    "\n",
    "SF_all_2014 = pd.merge(SF_trip_data_2014, SF_weather_2014,on='date')\n",
    "SF_all_2014 = SF_all_2014.drop(['start_city', 'month_x'], axis=1)\n",
    "SF_all_2014 = SF_all_2014.rename(columns={'month_y': 'month'})"
   ]
  },
  {
   "cell_type": "code",
   "execution_count": 14,
   "metadata": {
    "collapsed": false
   },
   "outputs": [
    {
     "data": {
      "text/html": [
       "<div>\n",
       "<table border=\"1\" class=\"dataframe\">\n",
       "  <thead>\n",
       "    <tr style=\"text-align: right;\">\n",
       "      <th></th>\n",
       "      <th>date</th>\n",
       "      <th>trip_time</th>\n",
       "      <th>user_type</th>\n",
       "      <th>mean_temp</th>\n",
       "      <th>mean_wind</th>\n",
       "      <th>season</th>\n",
       "      <th>city</th>\n",
       "      <th>month</th>\n",
       "    </tr>\n",
       "  </thead>\n",
       "  <tbody>\n",
       "    <tr>\n",
       "      <th>0</th>\n",
       "      <td>2013-09-01</td>\n",
       "      <td>25.133333</td>\n",
       "      <td>Customer</td>\n",
       "      <td>66</td>\n",
       "      <td>13</td>\n",
       "      <td>Autumn</td>\n",
       "      <td>San Francisco</td>\n",
       "      <td>9</td>\n",
       "    </tr>\n",
       "    <tr>\n",
       "      <th>1</th>\n",
       "      <td>2013-09-01</td>\n",
       "      <td>4.566667</td>\n",
       "      <td>Subscriber</td>\n",
       "      <td>66</td>\n",
       "      <td>13</td>\n",
       "      <td>Autumn</td>\n",
       "      <td>San Francisco</td>\n",
       "      <td>9</td>\n",
       "    </tr>\n",
       "    <tr>\n",
       "      <th>2</th>\n",
       "      <td>2013-09-01</td>\n",
       "      <td>19.950000</td>\n",
       "      <td>Customer</td>\n",
       "      <td>66</td>\n",
       "      <td>13</td>\n",
       "      <td>Autumn</td>\n",
       "      <td>San Francisco</td>\n",
       "      <td>9</td>\n",
       "    </tr>\n",
       "    <tr>\n",
       "      <th>3</th>\n",
       "      <td>2013-09-01</td>\n",
       "      <td>25.183333</td>\n",
       "      <td>Customer</td>\n",
       "      <td>66</td>\n",
       "      <td>13</td>\n",
       "      <td>Autumn</td>\n",
       "      <td>San Francisco</td>\n",
       "      <td>9</td>\n",
       "    </tr>\n",
       "    <tr>\n",
       "      <th>4</th>\n",
       "      <td>2013-09-01</td>\n",
       "      <td>25.183333</td>\n",
       "      <td>Customer</td>\n",
       "      <td>66</td>\n",
       "      <td>13</td>\n",
       "      <td>Autumn</td>\n",
       "      <td>San Francisco</td>\n",
       "      <td>9</td>\n",
       "    </tr>\n",
       "  </tbody>\n",
       "</table>\n",
       "</div>"
      ],
      "text/plain": [
       "        date  trip_time   user_type  mean_temp  mean_wind  season  \\\n",
       "0 2013-09-01  25.133333    Customer         66         13  Autumn   \n",
       "1 2013-09-01   4.566667  Subscriber         66         13  Autumn   \n",
       "2 2013-09-01  19.950000    Customer         66         13  Autumn   \n",
       "3 2013-09-01  25.183333    Customer         66         13  Autumn   \n",
       "4 2013-09-01  25.183333    Customer         66         13  Autumn   \n",
       "\n",
       "            city  month  \n",
       "0  San Francisco      9  \n",
       "1  San Francisco      9  \n",
       "2  San Francisco      9  \n",
       "3  San Francisco      9  \n",
       "4  San Francisco      9  "
      ]
     },
     "execution_count": 14,
     "metadata": {},
     "output_type": "execute_result"
    }
   ],
   "source": [
    "# sf by user statistics\n",
    "SF_all_2014.head()"
   ]
  },
  {
   "cell_type": "code",
   "execution_count": 263,
   "metadata": {
    "collapsed": false
   },
   "outputs": [],
   "source": [
    "# SF DATA PER MONTH\n",
    "SF_0913_result = trip_count_to_frame(SF_all_2014, 'month', 9)\n",
    "SF_1013_result = trip_count_to_frame(SF_all_2014, 'month', 10)\n",
    "SF_1113_result = trip_count_to_frame(SF_all_2014, 'month', 11)\n",
    "SF_1213_result = trip_count_to_frame(SF_all_2014, 'month', 12)\n",
    "SF_0114_result = trip_count_to_frame(SF_all_2014, 'month', 1)\n",
    "SF_0214_result = trip_count_to_frame(SF_all_2014, 'month', 2)\n",
    "SF_0314_result = trip_count_to_frame(SF_all_2014, 'month', 3)\n",
    "SF_0414_result = trip_count_to_frame(SF_all_2014, 'month', 4)\n",
    "SF_0514_result = trip_count_to_frame(SF_all_2014, 'month', 5)\n",
    "SF_0614_result = trip_count_to_frame(SF_all_2014, 'month', 6)\n",
    "SF_0714_result = trip_count_to_frame(SF_all_2014, 'month', 7)\n",
    "SF_0814_result = trip_count_to_frame(SF_all_2014, 'month', 8)\n",
    "# concat all the above dataframes\n",
    "SF_trip_count_month_2014_all = pd.concat([SF_0913_result,SF_1013_result,SF_1113_result,SF_1213_result,SF_0114_result,\n",
    "                  SF_0214_result,SF_0314_result,SF_0514_result,SF_0614_result,SF_0714_result,\n",
    "                  SF_0814_result])\n",
    "SF_trip_count_month_2014_all['mean_temp'] = 'NaN'"
   ]
  },
  {
   "cell_type": "code",
   "execution_count": 264,
   "metadata": {
    "collapsed": false
   },
   "outputs": [
    {
     "name": "stderr",
     "output_type": "stream",
     "text": [
      "//anaconda/lib/python3.5/site-packages/pandas/core/indexing.py:117: SettingWithCopyWarning: \n",
      "A value is trying to be set on a copy of a slice from a DataFrame\n",
      "\n",
      "See the caveats in the documentation: http://pandas.pydata.org/pandas-docs/stable/indexing.html#indexing-view-versus-copy\n",
      "  self._setitem_with_indexer(indexer, value)\n"
     ]
    },
    {
     "data": {
      "text/html": [
       "<div>\n",
       "<table border=\"1\" class=\"dataframe\">\n",
       "  <thead>\n",
       "    <tr style=\"text-align: right;\">\n",
       "      <th>user_type</th>\n",
       "      <th>Customer</th>\n",
       "      <th>Subscriber</th>\n",
       "      <th>mean_temp</th>\n",
       "    </tr>\n",
       "  </thead>\n",
       "  <tbody>\n",
       "    <tr>\n",
       "      <th>9</th>\n",
       "      <td>8590</td>\n",
       "      <td>14114</td>\n",
       "      <td>65.6521</td>\n",
       "    </tr>\n",
       "    <tr>\n",
       "      <th>10</th>\n",
       "      <td>5493</td>\n",
       "      <td>20659</td>\n",
       "      <td>61.3209</td>\n",
       "    </tr>\n",
       "    <tr>\n",
       "      <th>11</th>\n",
       "      <td>3965</td>\n",
       "      <td>18008</td>\n",
       "      <td>58.1541</td>\n",
       "    </tr>\n",
       "    <tr>\n",
       "      <th>12</th>\n",
       "      <td>2909</td>\n",
       "      <td>15228</td>\n",
       "      <td>49.4969</td>\n",
       "    </tr>\n",
       "    <tr>\n",
       "      <th>1</th>\n",
       "      <td>2955</td>\n",
       "      <td>19044</td>\n",
       "      <td>55.7595</td>\n",
       "    </tr>\n",
       "  </tbody>\n",
       "</table>\n",
       "</div>"
      ],
      "text/plain": [
       "user_type  Customer  Subscriber mean_temp\n",
       "9              8590       14114   65.6521\n",
       "10             5493       20659   61.3209\n",
       "11             3965       18008   58.1541\n",
       "12             2909       15228   49.4969\n",
       "1              2955       19044   55.7595"
      ]
     },
     "execution_count": 264,
     "metadata": {},
     "output_type": "execute_result"
    }
   ],
   "source": [
    "# add avg temp to table\n",
    "SF_trip_count_month_2014_all = add_avg_temp_to_data(SF_all_2014, SF_trip_count_month_2014_all, 'month', sort_range_month)\n",
    "SF_trip_count_month_2014_all.head()"
   ]
  },
  {
   "cell_type": "code",
   "execution_count": 258,
   "metadata": {
    "collapsed": false
   },
   "outputs": [
    {
     "data": {
      "text/plain": [
       "<matplotlib.text.Text at 0x142145128>"
      ]
     },
     "execution_count": 258,
     "metadata": {},
     "output_type": "execute_result"
    },
    {
     "data": {
      "image/png": "[encoded data removed]",
      "text/plain": [
       "<matplotlib.figure.Figure at 0x141cc5b38>"
      ]
     },
     "metadata": {},
     "output_type": "display_data"
    }
   ],
   "source": [
    "# plot SF 2014 trip count v. avg weather for 12 months in one plot\n",
    "fig = plt.figure() # Create matplotlib figure\n",
    "\n",
    "ax = fig.add_subplot(111) # Create matplotlib axes\n",
    "ax2 = ax.twinx() \n",
    "SF_trip_count_month_2014_all.Customer.plot(kind='bar',color='red',ax=ax,width=0.3,legend=True, position=0,figsize=((12,10)))\n",
    "SF_trip_count_month_2014_all.Subscriber.plot(kind='bar',color='blue', ax=ax,width=0.3, position = -1, legend=True)\n",
    "SF_trip_count_month_2014_all.mean_temp.plot.area(ax=ax2,use_index=False, color='c',stacked=False,legend=True, alpha=0.3)\n",
    "ax2.set_ylabel('average temperature',fontsize=20)\n",
    "ax.set_ylabel('trip count per user type',fontsize=20)\n",
    "plt.title('San Francisco Trip Count vs. Average Temperature 2014', fontsize=20)"
   ]
  },
  {
   "cell_type": "markdown",
   "metadata": {
    "collapsed": true
   },
   "source": [
    "### San Francisco 2015"
   ]
  },
  {
   "cell_type": "code",
   "execution_count": 259,
   "metadata": {
    "collapsed": true
   },
   "outputs": [],
   "source": [
    "# sf weather and trip data\n",
    "SF_weather_2015 = weather_2015_for_me[weather_2015_for_me['city']=='San Francisco']\n",
    "SF_trip_data_2015 = trip_data_2015_for_me[trip_data_2015_for_me['start_city'] =='San Francisco']\n",
    "\n",
    "SF_all_2015 = pd.merge(SF_trip_data_2015, SF_weather_2015,on='date')\n",
    "SF_all_2015 = SF_all_2015.drop(['start_city', 'month_x'], axis=1)\n",
    "SF_all_2015 = SF_all_2015.rename(columns={'month_y': 'month'})"
   ]
  },
  {
   "cell_type": "code",
   "execution_count": 260,
   "metadata": {
    "collapsed": false
   },
   "outputs": [
    {
     "data": {
      "text/html": [
       "<div>\n",
       "<table border=\"1\" class=\"dataframe\">\n",
       "  <thead>\n",
       "    <tr style=\"text-align: right;\">\n",
       "      <th></th>\n",
       "      <th>date</th>\n",
       "      <th>trip_time</th>\n",
       "      <th>user_type</th>\n",
       "      <th>mean_temp</th>\n",
       "      <th>mean_wind</th>\n",
       "      <th>season</th>\n",
       "      <th>city</th>\n",
       "      <th>month</th>\n",
       "    </tr>\n",
       "  </thead>\n",
       "  <tbody>\n",
       "    <tr>\n",
       "      <th>0</th>\n",
       "      <td>2014-09-01</td>\n",
       "      <td>30.300000</td>\n",
       "      <td>Customer</td>\n",
       "      <td>70</td>\n",
       "      <td>7</td>\n",
       "      <td>Autumn</td>\n",
       "      <td>San Francisco</td>\n",
       "      <td>9</td>\n",
       "    </tr>\n",
       "    <tr>\n",
       "      <th>1</th>\n",
       "      <td>2014-09-01</td>\n",
       "      <td>30.650000</td>\n",
       "      <td>Customer</td>\n",
       "      <td>70</td>\n",
       "      <td>7</td>\n",
       "      <td>Autumn</td>\n",
       "      <td>San Francisco</td>\n",
       "      <td>9</td>\n",
       "    </tr>\n",
       "    <tr>\n",
       "      <th>2</th>\n",
       "      <td>2014-09-01</td>\n",
       "      <td>13.116667</td>\n",
       "      <td>Subscriber</td>\n",
       "      <td>70</td>\n",
       "      <td>7</td>\n",
       "      <td>Autumn</td>\n",
       "      <td>San Francisco</td>\n",
       "      <td>9</td>\n",
       "    </tr>\n",
       "    <tr>\n",
       "      <th>3</th>\n",
       "      <td>2014-09-01</td>\n",
       "      <td>9.450000</td>\n",
       "      <td>Subscriber</td>\n",
       "      <td>70</td>\n",
       "      <td>7</td>\n",
       "      <td>Autumn</td>\n",
       "      <td>San Francisco</td>\n",
       "      <td>9</td>\n",
       "    </tr>\n",
       "    <tr>\n",
       "      <th>4</th>\n",
       "      <td>2014-09-01</td>\n",
       "      <td>29.466667</td>\n",
       "      <td>Customer</td>\n",
       "      <td>70</td>\n",
       "      <td>7</td>\n",
       "      <td>Autumn</td>\n",
       "      <td>San Francisco</td>\n",
       "      <td>9</td>\n",
       "    </tr>\n",
       "  </tbody>\n",
       "</table>\n",
       "</div>"
      ],
      "text/plain": [
       "        date  trip_time   user_type  mean_temp  mean_wind  season  \\\n",
       "0 2014-09-01  30.300000    Customer         70          7  Autumn   \n",
       "1 2014-09-01  30.650000    Customer         70          7  Autumn   \n",
       "2 2014-09-01  13.116667  Subscriber         70          7  Autumn   \n",
       "3 2014-09-01   9.450000  Subscriber         70          7  Autumn   \n",
       "4 2014-09-01  29.466667    Customer         70          7  Autumn   \n",
       "\n",
       "            city  month  \n",
       "0  San Francisco      9  \n",
       "1  San Francisco      9  \n",
       "2  San Francisco      9  \n",
       "3  San Francisco      9  \n",
       "4  San Francisco      9  "
      ]
     },
     "execution_count": 260,
     "metadata": {},
     "output_type": "execute_result"
    }
   ],
   "source": [
    "# sf by user statistics\n",
    "SF_all_2015.head()"
   ]
  },
  {
   "cell_type": "code",
   "execution_count": 265,
   "metadata": {
    "collapsed": false
   },
   "outputs": [],
   "source": [
    "# SF DATA PER MONTH\n",
    "SF_0914_result = trip_count_to_frame(SF_all_2015, 'month', 9)\n",
    "SF_1014_result = trip_count_to_frame(SF_all_2015, 'month', 10)\n",
    "SF_1114_result = trip_count_to_frame(SF_all_2015, 'month', 11)\n",
    "SF_1214_result = trip_count_to_frame(SF_all_2015, 'month', 12)\n",
    "SF_0115_result = trip_count_to_frame(SF_all_2015, 'month', 1)\n",
    "SF_0215_result = trip_count_to_frame(SF_all_2015, 'month', 2)\n",
    "SF_0315_result = trip_count_to_frame(SF_all_2015, 'month', 3)\n",
    "SF_0415_result = trip_count_to_frame(SF_all_2015, 'month', 4)\n",
    "SF_0515_result = trip_count_to_frame(SF_all_2015, 'month', 5)\n",
    "SF_0615_result = trip_count_to_frame(SF_all_2015, 'month', 6)\n",
    "SF_0715_result = trip_count_to_frame(SF_all_2015, 'month', 7)\n",
    "SF_0815_result = trip_count_to_frame(SF_all_2015, 'month', 8)\n",
    "# concat all the above dataframes\n",
    "SF_trip_count_month_2015_all = pd.concat([SF_0914_result,SF_1014_result,SF_1114_result,SF_1214_result,SF_0115_result,\n",
    "                  SF_0215_result,SF_0315_result,SF_0515_result,SF_0615_result,SF_0715_result,\n",
    "                  SF_0815_result])\n",
    "SF_trip_count_month_2015_all['mean_temp'] = 'NaN'"
   ]
  },
  {
   "cell_type": "code",
   "execution_count": 266,
   "metadata": {
    "collapsed": false
   },
   "outputs": [
    {
     "name": "stderr",
     "output_type": "stream",
     "text": [
      "//anaconda/lib/python3.5/site-packages/pandas/core/indexing.py:117: SettingWithCopyWarning: \n",
      "A value is trying to be set on a copy of a slice from a DataFrame\n",
      "\n",
      "See the caveats in the documentation: http://pandas.pydata.org/pandas-docs/stable/indexing.html#indexing-view-versus-copy\n",
      "  self._setitem_with_indexer(indexer, value)\n"
     ]
    },
    {
     "data": {
      "text/html": [
       "<div>\n",
       "<table border=\"1\" class=\"dataframe\">\n",
       "  <thead>\n",
       "    <tr style=\"text-align: right;\">\n",
       "      <th>user_type</th>\n",
       "      <th>Customer</th>\n",
       "      <th>Subscriber</th>\n",
       "      <th>mean_temp</th>\n",
       "    </tr>\n",
       "  </thead>\n",
       "  <tbody>\n",
       "    <tr>\n",
       "      <th>9</th>\n",
       "      <td>3756</td>\n",
       "      <td>24779</td>\n",
       "      <td>67.3277</td>\n",
       "    </tr>\n",
       "    <tr>\n",
       "      <th>10</th>\n",
       "      <td>3965</td>\n",
       "      <td>27125</td>\n",
       "      <td>63.7202</td>\n",
       "    </tr>\n",
       "    <tr>\n",
       "      <th>11</th>\n",
       "      <td>2503</td>\n",
       "      <td>20614</td>\n",
       "      <td>57.3324</td>\n",
       "    </tr>\n",
       "    <tr>\n",
       "      <th>12</th>\n",
       "      <td>2154</td>\n",
       "      <td>16024</td>\n",
       "      <td>56.4926</td>\n",
       "    </tr>\n",
       "    <tr>\n",
       "      <th>1</th>\n",
       "      <td>2440</td>\n",
       "      <td>22972</td>\n",
       "      <td>51.6027</td>\n",
       "    </tr>\n",
       "  </tbody>\n",
       "</table>\n",
       "</div>"
      ],
      "text/plain": [
       "user_type  Customer  Subscriber mean_temp\n",
       "9              3756       24779   67.3277\n",
       "10             3965       27125   63.7202\n",
       "11             2503       20614   57.3324\n",
       "12             2154       16024   56.4926\n",
       "1              2440       22972   51.6027"
      ]
     },
     "execution_count": 266,
     "metadata": {},
     "output_type": "execute_result"
    }
   ],
   "source": [
    "# add avg temp to table\n",
    "SF_trip_count_month_2015_all = add_avg_temp_to_data(SF_all_2015, SF_trip_count_month_2015_all, 'month', sort_range_month)\n",
    "SF_trip_count_month_2015_all.head()"
   ]
  },
  {
   "cell_type": "code",
   "execution_count": 267,
   "metadata": {
    "collapsed": false
   },
   "outputs": [
    {
     "data": {
      "text/plain": [
       "<matplotlib.text.Text at 0x13bee2710>"
      ]
     },
     "execution_count": 267,
     "metadata": {},
     "output_type": "execute_result"
    },
    {
     "data": {
      "image/png": "[encoded data removed]",
      "text/plain": [
       "<matplotlib.figure.Figure at 0x13e0a9668>"
      ]
     },
     "metadata": {},
     "output_type": "display_data"
    }
   ],
   "source": [
    "# plot SF 2015 trip count v. avg weather for 12 months in one plot\n",
    "fig = plt.figure() # Create matplotlib figure\n",
    "\n",
    "ax = fig.add_subplot(111) # Create matplotlib axes\n",
    "ax2 = ax.twinx() \n",
    "SF_trip_count_month_2015_all.Customer.plot(kind='bar',color='red',ax=ax,width=0.3,legend=True, position=0,figsize=((12,10)))\n",
    "SF_trip_count_month_2015_all.Subscriber.plot(kind='bar',color='blue', ax=ax,width=0.3, position = -1, legend=True)\n",
    "SF_trip_count_month_2015_all.mean_temp.plot.area(ax=ax2,use_index=False, color='c',stacked=False,legend=True, alpha=0.3)\n",
    "ax2.set_ylabel('average temperature',fontsize=20)\n",
    "ax.set_ylabel('trip count per user type',fontsize=20)\n",
    "plt.title('San Francisco Trip Count vs. Average Temperature 2015', fontsize=20)"
   ]
  },
  {
   "cell_type": "markdown",
   "metadata": {
    "collapsed": true
   },
   "source": [
    "### San Jose 2014"
   ]
  },
  {
   "cell_type": "code",
   "execution_count": 268,
   "metadata": {
    "collapsed": true
   },
   "outputs": [],
   "source": [
    "# sf weather and trip data\n",
    "SJ_weather_2014 = weather_2014_for_me[weather_2014_for_me['city']=='San Jose']\n",
    "SJ_trip_data_2014 = trip_data_2014_for_me[trip_data_2014_for_me['start_city'] =='San Jose']\n",
    "\n",
    "SJ_all_2014 = pd.merge(SJ_trip_data_2014, SJ_weather_2014,on='date')\n",
    "SJ_all_2014 = SJ_all_2014.drop(['start_city', 'month_x'], axis=1)\n",
    "SJ_all_2014 = SJ_all_2014.rename(columns={'month_y': 'month'})"
   ]
  },
  {
   "cell_type": "code",
   "execution_count": 269,
   "metadata": {
    "collapsed": false
   },
   "outputs": [
    {
     "data": {
      "text/html": [
       "<div>\n",
       "<table border=\"1\" class=\"dataframe\">\n",
       "  <thead>\n",
       "    <tr style=\"text-align: right;\">\n",
       "      <th></th>\n",
       "      <th>date</th>\n",
       "      <th>trip_time</th>\n",
       "      <th>user_type</th>\n",
       "      <th>mean_temp</th>\n",
       "      <th>mean_wind</th>\n",
       "      <th>season</th>\n",
       "      <th>city</th>\n",
       "      <th>month</th>\n",
       "    </tr>\n",
       "  </thead>\n",
       "  <tbody>\n",
       "    <tr>\n",
       "      <th>0</th>\n",
       "      <td>2013-09-01</td>\n",
       "      <td>11.483333</td>\n",
       "      <td>Customer</td>\n",
       "      <td>72</td>\n",
       "      <td>7</td>\n",
       "      <td>Autumn</td>\n",
       "      <td>San Jose</td>\n",
       "      <td>9</td>\n",
       "    </tr>\n",
       "    <tr>\n",
       "      <th>1</th>\n",
       "      <td>2013-09-01</td>\n",
       "      <td>10.783333</td>\n",
       "      <td>Customer</td>\n",
       "      <td>72</td>\n",
       "      <td>7</td>\n",
       "      <td>Autumn</td>\n",
       "      <td>San Jose</td>\n",
       "      <td>9</td>\n",
       "    </tr>\n",
       "    <tr>\n",
       "      <th>2</th>\n",
       "      <td>2013-09-01</td>\n",
       "      <td>71.583333</td>\n",
       "      <td>Customer</td>\n",
       "      <td>72</td>\n",
       "      <td>7</td>\n",
       "      <td>Autumn</td>\n",
       "      <td>San Jose</td>\n",
       "      <td>9</td>\n",
       "    </tr>\n",
       "    <tr>\n",
       "      <th>3</th>\n",
       "      <td>2013-09-01</td>\n",
       "      <td>70.866667</td>\n",
       "      <td>Customer</td>\n",
       "      <td>72</td>\n",
       "      <td>7</td>\n",
       "      <td>Autumn</td>\n",
       "      <td>San Jose</td>\n",
       "      <td>9</td>\n",
       "    </tr>\n",
       "    <tr>\n",
       "      <th>4</th>\n",
       "      <td>2013-09-01</td>\n",
       "      <td>23.466667</td>\n",
       "      <td>Customer</td>\n",
       "      <td>72</td>\n",
       "      <td>7</td>\n",
       "      <td>Autumn</td>\n",
       "      <td>San Jose</td>\n",
       "      <td>9</td>\n",
       "    </tr>\n",
       "  </tbody>\n",
       "</table>\n",
       "</div>"
      ],
      "text/plain": [
       "        date  trip_time user_type  mean_temp  mean_wind  season      city  \\\n",
       "0 2013-09-01  11.483333  Customer         72          7  Autumn  San Jose   \n",
       "1 2013-09-01  10.783333  Customer         72          7  Autumn  San Jose   \n",
       "2 2013-09-01  71.583333  Customer         72          7  Autumn  San Jose   \n",
       "3 2013-09-01  70.866667  Customer         72          7  Autumn  San Jose   \n",
       "4 2013-09-01  23.466667  Customer         72          7  Autumn  San Jose   \n",
       "\n",
       "   month  \n",
       "0      9  \n",
       "1      9  \n",
       "2      9  \n",
       "3      9  \n",
       "4      9  "
      ]
     },
     "execution_count": 269,
     "metadata": {},
     "output_type": "execute_result"
    }
   ],
   "source": [
    "# sj by user statistics\n",
    "SJ_all_2014.head()"
   ]
  },
  {
   "cell_type": "code",
   "execution_count": 271,
   "metadata": {
    "collapsed": true
   },
   "outputs": [],
   "source": [
    "# SJ DATA PER MONTH\n",
    "SJ_0913_result = trip_count_to_frame(SJ_all_2014, 'month', 9)\n",
    "SJ_1013_result = trip_count_to_frame(SJ_all_2014, 'month', 10)\n",
    "SJ_1113_result = trip_count_to_frame(SJ_all_2014, 'month', 11)\n",
    "SJ_1213_result = trip_count_to_frame(SJ_all_2014, 'month', 12)\n",
    "SJ_0114_result = trip_count_to_frame(SJ_all_2014, 'month', 1)\n",
    "SJ_0214_result = trip_count_to_frame(SJ_all_2014, 'month', 2)\n",
    "SJ_0314_result = trip_count_to_frame(SJ_all_2014, 'month', 3)\n",
    "SJ_0414_result = trip_count_to_frame(SJ_all_2014, 'month', 4)\n",
    "SJ_0514_result = trip_count_to_frame(SJ_all_2014, 'month', 5)\n",
    "SJ_0614_result = trip_count_to_frame(SJ_all_2014, 'month', 6)\n",
    "SJ_0714_result = trip_count_to_frame(SJ_all_2014, 'month', 7)\n",
    "SJ_0814_result = trip_count_to_frame(SJ_all_2014, 'month', 8)\n",
    "# concat all the above dataframes\n",
    "SJ_trip_count_month_2014_all = pd.concat([SJ_0913_result,SJ_1013_result,SJ_1113_result,SJ_1213_result,SJ_0114_result,\n",
    "                  SJ_0214_result,SJ_0314_result,SJ_0514_result,SJ_0614_result,SJ_0714_result,\n",
    "                  SJ_0814_result])\n",
    "SJ_trip_count_month_2014_all['mean_temp'] = 'NaN'"
   ]
  },
  {
   "cell_type": "code",
   "execution_count": 272,
   "metadata": {
    "collapsed": false
   },
   "outputs": [
    {
     "name": "stderr",
     "output_type": "stream",
     "text": [
      "//anaconda/lib/python3.5/site-packages/pandas/core/indexing.py:117: SettingWithCopyWarning: \n",
      "A value is trying to be set on a copy of a slice from a DataFrame\n",
      "\n",
      "See the caveats in the documentation: http://pandas.pydata.org/pandas-docs/stable/indexing.html#indexing-view-versus-copy\n",
      "  self._setitem_with_indexer(indexer, value)\n"
     ]
    },
    {
     "data": {
      "text/html": [
       "<div>\n",
       "<table border=\"1\" class=\"dataframe\">\n",
       "  <thead>\n",
       "    <tr style=\"text-align: right;\">\n",
       "      <th>user_type</th>\n",
       "      <th>Customer</th>\n",
       "      <th>Subscriber</th>\n",
       "      <th>mean_temp</th>\n",
       "    </tr>\n",
       "  </thead>\n",
       "  <tbody>\n",
       "    <tr>\n",
       "      <th>9</th>\n",
       "      <td>526</td>\n",
       "      <td>1157</td>\n",
       "      <td>68.2692</td>\n",
       "    </tr>\n",
       "    <tr>\n",
       "      <th>10</th>\n",
       "      <td>357</td>\n",
       "      <td>1605</td>\n",
       "      <td>61.579</td>\n",
       "    </tr>\n",
       "    <tr>\n",
       "      <th>11</th>\n",
       "      <td>238</td>\n",
       "      <td>1109</td>\n",
       "      <td>56.8092</td>\n",
       "    </tr>\n",
       "    <tr>\n",
       "      <th>12</th>\n",
       "      <td>160</td>\n",
       "      <td>930</td>\n",
       "      <td>47.2248</td>\n",
       "    </tr>\n",
       "    <tr>\n",
       "      <th>1</th>\n",
       "      <td>253</td>\n",
       "      <td>1292</td>\n",
       "      <td>54.2647</td>\n",
       "    </tr>\n",
       "  </tbody>\n",
       "</table>\n",
       "</div>"
      ],
      "text/plain": [
       "user_type  Customer  Subscriber mean_temp\n",
       "9               526        1157   68.2692\n",
       "10              357        1605    61.579\n",
       "11              238        1109   56.8092\n",
       "12              160         930   47.2248\n",
       "1               253        1292   54.2647"
      ]
     },
     "execution_count": 272,
     "metadata": {},
     "output_type": "execute_result"
    }
   ],
   "source": [
    "# add avg temp to table\n",
    "SJ_trip_count_month_2014_all = add_avg_temp_to_data(SJ_all_2014, SJ_trip_count_month_2014_all, 'month', sort_range_month)\n",
    "SJ_trip_count_month_2014_all.head()"
   ]
  },
  {
   "cell_type": "code",
   "execution_count": 273,
   "metadata": {
    "collapsed": false
   },
   "outputs": [
    {
     "data": {
      "text/plain": [
       "<matplotlib.text.Text at 0x13f125ba8>"
      ]
     },
     "execution_count": 273,
     "metadata": {},
     "output_type": "execute_result"
    },
    {
     "data": {
      "image/png": "[encoded data removed]",
      "text/plain": [
       "<matplotlib.figure.Figure at 0x13ddcbeb8>"
      ]
     },
     "metadata": {},
     "output_type": "display_data"
    }
   ],
   "source": [
    "# plot SJ 2014 trip count v. avg weather for 12 months in one plot\n",
    "fig = plt.figure() # Create matplotlib figure\n",
    "\n",
    "ax = fig.add_subplot(111) # Create matplotlib axes\n",
    "ax2 = ax.twinx() \n",
    "SJ_trip_count_month_2014_all.Customer.plot(kind='bar',color='red',ax=ax,width=0.3,legend=True, position=0,figsize=((12,10)))\n",
    "SJ_trip_count_month_2014_all.Subscriber.plot(kind='bar',color='blue', ax=ax,width=0.3, position = -1, legend=True)\n",
    "SJ_trip_count_month_2014_all.mean_temp.plot.area(ax=ax2,use_index=False, color='c',stacked=False,legend=True, alpha=0.3)\n",
    "ax2.set_ylabel('average temperature',fontsize=20)\n",
    "ax.set_ylabel('trip count per user type',fontsize=20)\n",
    "plt.title('San Jose Count vs. Average Temperature 2014', fontsize=20)"
   ]
  },
  {
   "cell_type": "markdown",
   "metadata": {
    "collapsed": true
   },
   "source": [
    "### San Jose 2015"
   ]
  },
  {
   "cell_type": "code",
   "execution_count": 274,
   "metadata": {
    "collapsed": true
   },
   "outputs": [],
   "source": [
    "SJ_weather_2015 = weather_2015_for_me[weather_2015_for_me['city']=='San Jose']\n",
    "SJ_trip_data_2015 = trip_data_2015_for_me[trip_data_2015_for_me['start_city'] =='San Jose']\n",
    "\n",
    "SJ_all_2015 = pd.merge(SJ_trip_data_2015, SJ_weather_2015,on='date')\n",
    "SJ_all_2015 = SJ_all_2015.drop(['start_city', 'month_x'], axis=1)\n",
    "SJ_all_2015 = SJ_all_2015.rename(columns={'month_y': 'month'})"
   ]
  },
  {
   "cell_type": "code",
   "execution_count": 275,
   "metadata": {
    "collapsed": false
   },
   "outputs": [
    {
     "data": {
      "text/html": [
       "<div>\n",
       "<table border=\"1\" class=\"dataframe\">\n",
       "  <thead>\n",
       "    <tr style=\"text-align: right;\">\n",
       "      <th></th>\n",
       "      <th>date</th>\n",
       "      <th>trip_time</th>\n",
       "      <th>user_type</th>\n",
       "      <th>mean_temp</th>\n",
       "      <th>mean_wind</th>\n",
       "      <th>season</th>\n",
       "      <th>city</th>\n",
       "      <th>month</th>\n",
       "    </tr>\n",
       "  </thead>\n",
       "  <tbody>\n",
       "    <tr>\n",
       "      <th>0</th>\n",
       "      <td>2014-09-01</td>\n",
       "      <td>32.033333</td>\n",
       "      <td>Customer</td>\n",
       "      <td>72</td>\n",
       "      <td>5</td>\n",
       "      <td>Autumn</td>\n",
       "      <td>San Jose</td>\n",
       "      <td>9</td>\n",
       "    </tr>\n",
       "    <tr>\n",
       "      <th>1</th>\n",
       "      <td>2014-09-01</td>\n",
       "      <td>35.216667</td>\n",
       "      <td>Customer</td>\n",
       "      <td>72</td>\n",
       "      <td>5</td>\n",
       "      <td>Autumn</td>\n",
       "      <td>San Jose</td>\n",
       "      <td>9</td>\n",
       "    </tr>\n",
       "    <tr>\n",
       "      <th>2</th>\n",
       "      <td>2014-09-01</td>\n",
       "      <td>8.383333</td>\n",
       "      <td>Subscriber</td>\n",
       "      <td>72</td>\n",
       "      <td>5</td>\n",
       "      <td>Autumn</td>\n",
       "      <td>San Jose</td>\n",
       "      <td>9</td>\n",
       "    </tr>\n",
       "    <tr>\n",
       "      <th>3</th>\n",
       "      <td>2014-09-01</td>\n",
       "      <td>10.516667</td>\n",
       "      <td>Customer</td>\n",
       "      <td>72</td>\n",
       "      <td>5</td>\n",
       "      <td>Autumn</td>\n",
       "      <td>San Jose</td>\n",
       "      <td>9</td>\n",
       "    </tr>\n",
       "    <tr>\n",
       "      <th>4</th>\n",
       "      <td>2014-09-01</td>\n",
       "      <td>12.933333</td>\n",
       "      <td>Customer</td>\n",
       "      <td>72</td>\n",
       "      <td>5</td>\n",
       "      <td>Autumn</td>\n",
       "      <td>San Jose</td>\n",
       "      <td>9</td>\n",
       "    </tr>\n",
       "  </tbody>\n",
       "</table>\n",
       "</div>"
      ],
      "text/plain": [
       "        date  trip_time   user_type  mean_temp  mean_wind  season      city  \\\n",
       "0 2014-09-01  32.033333    Customer         72          5  Autumn  San Jose   \n",
       "1 2014-09-01  35.216667    Customer         72          5  Autumn  San Jose   \n",
       "2 2014-09-01   8.383333  Subscriber         72          5  Autumn  San Jose   \n",
       "3 2014-09-01  10.516667    Customer         72          5  Autumn  San Jose   \n",
       "4 2014-09-01  12.933333    Customer         72          5  Autumn  San Jose   \n",
       "\n",
       "   month  \n",
       "0      9  \n",
       "1      9  \n",
       "2      9  \n",
       "3      9  \n",
       "4      9  "
      ]
     },
     "execution_count": 275,
     "metadata": {},
     "output_type": "execute_result"
    }
   ],
   "source": [
    "# SJ by user statistics\n",
    "SJ_all_2015.head()"
   ]
  },
  {
   "cell_type": "code",
   "execution_count": 276,
   "metadata": {
    "collapsed": true
   },
   "outputs": [],
   "source": [
    "# SF DATA PER MONTH\n",
    "SJ_0914_result = trip_count_to_frame(SJ_all_2015, 'month', 9)\n",
    "SJ_1014_result = trip_count_to_frame(SJ_all_2015, 'month', 10)\n",
    "SJ_1114_result = trip_count_to_frame(SJ_all_2015, 'month', 11)\n",
    "SJ_1214_result = trip_count_to_frame(SJ_all_2015, 'month', 12)\n",
    "SJ_0115_result = trip_count_to_frame(SJ_all_2015, 'month', 1)\n",
    "SJ_0215_result = trip_count_to_frame(SJ_all_2015, 'month', 2)\n",
    "SJ_0315_result = trip_count_to_frame(SJ_all_2015, 'month', 3)\n",
    "SJ_0415_result = trip_count_to_frame(SJ_all_2015, 'month', 4)\n",
    "SJ_0515_result = trip_count_to_frame(SJ_all_2015, 'month', 5)\n",
    "SJ_0615_result = trip_count_to_frame(SJ_all_2015, 'month', 6)\n",
    "SJ_0715_result = trip_count_to_frame(SJ_all_2015, 'month', 7)\n",
    "SJ_0815_result = trip_count_to_frame(SJ_all_2015, 'month', 8)\n",
    "# concat all the above dataframes\n",
    "SJ_trip_count_month_2015_all = pd.concat([SJ_0914_result,SJ_1014_result,SJ_1114_result,SJ_1214_result,SJ_0115_result,\n",
    "                  SJ_0215_result,SJ_0315_result,SJ_0515_result,SJ_0615_result,SJ_0715_result,\n",
    "                  SJ_0815_result])\n",
    "SJ_trip_count_month_2015_all['mean_temp'] = 'NaN'"
   ]
  },
  {
   "cell_type": "code",
   "execution_count": 277,
   "metadata": {
    "collapsed": false
   },
   "outputs": [
    {
     "name": "stderr",
     "output_type": "stream",
     "text": [
      "//anaconda/lib/python3.5/site-packages/pandas/core/indexing.py:117: SettingWithCopyWarning: \n",
      "A value is trying to be set on a copy of a slice from a DataFrame\n",
      "\n",
      "See the caveats in the documentation: http://pandas.pydata.org/pandas-docs/stable/indexing.html#indexing-view-versus-copy\n",
      "  self._setitem_with_indexer(indexer, value)\n"
     ]
    },
    {
     "data": {
      "text/html": [
       "<div>\n",
       "<table border=\"1\" class=\"dataframe\">\n",
       "  <thead>\n",
       "    <tr style=\"text-align: right;\">\n",
       "      <th>user_type</th>\n",
       "      <th>Customer</th>\n",
       "      <th>Subscriber</th>\n",
       "      <th>mean_temp</th>\n",
       "    </tr>\n",
       "  </thead>\n",
       "  <tbody>\n",
       "    <tr>\n",
       "      <th>9</th>\n",
       "      <td>228</td>\n",
       "      <td>1599</td>\n",
       "      <td>68.6732</td>\n",
       "    </tr>\n",
       "    <tr>\n",
       "      <th>10</th>\n",
       "      <td>211</td>\n",
       "      <td>1570</td>\n",
       "      <td>65.7193</td>\n",
       "    </tr>\n",
       "    <tr>\n",
       "      <th>11</th>\n",
       "      <td>179</td>\n",
       "      <td>1237</td>\n",
       "      <td>57.69</td>\n",
       "    </tr>\n",
       "    <tr>\n",
       "      <th>12</th>\n",
       "      <td>57</td>\n",
       "      <td>803</td>\n",
       "      <td>56.2791</td>\n",
       "    </tr>\n",
       "    <tr>\n",
       "      <th>1</th>\n",
       "      <td>110</td>\n",
       "      <td>1210</td>\n",
       "      <td>52.5083</td>\n",
       "    </tr>\n",
       "  </tbody>\n",
       "</table>\n",
       "</div>"
      ],
      "text/plain": [
       "user_type  Customer  Subscriber mean_temp\n",
       "9               228        1599   68.6732\n",
       "10              211        1570   65.7193\n",
       "11              179        1237     57.69\n",
       "12               57         803   56.2791\n",
       "1               110        1210   52.5083"
      ]
     },
     "execution_count": 277,
     "metadata": {},
     "output_type": "execute_result"
    }
   ],
   "source": [
    "# add avg temp to table\n",
    "SJ_trip_count_month_2015_all = add_avg_temp_to_data(SJ_all_2015, SJ_trip_count_month_2015_all, 'month', sort_range_month)\n",
    "SJ_trip_count_month_2015_all.head()"
   ]
  },
  {
   "cell_type": "code",
   "execution_count": 278,
   "metadata": {
    "collapsed": false
   },
   "outputs": [
    {
     "data": {
      "text/plain": [
       "<matplotlib.text.Text at 0x13d30d518>"
      ]
     },
     "execution_count": 278,
     "metadata": {},
     "output_type": "execute_result"
    },
    {
     "data": {
      "image/png": "[encoded data removed]",
      "text/plain": [
       "<matplotlib.figure.Figure at 0x13f4405c0>"
      ]
     },
     "metadata": {},
     "output_type": "display_data"
    }
   ],
   "source": [
    "# plot SF 2015 trip count v. avg weather for 12 months in one plot\n",
    "fig = plt.figure() # Create matplotlib figure\n",
    "\n",
    "ax = fig.add_subplot(111) # Create matplotlib axes\n",
    "ax2 = ax.twinx() \n",
    "SJ_trip_count_month_2015_all.Customer.plot(kind='bar',color='red',ax=ax,width=0.3,legend=True, position=0,figsize=((12,10)))\n",
    "SJ_trip_count_month_2015_all.Subscriber.plot(kind='bar',color='blue', ax=ax,width=0.3, position = -1, legend=True)\n",
    "SJ_trip_count_month_2015_all.mean_temp.plot.area(ax=ax2,use_index=False, color='c',stacked=False,legend=True, alpha=0.3)\n",
    "ax2.set_ylabel('average temperature',fontsize=20)\n",
    "ax.set_ylabel('trip count per user type',fontsize=20)\n",
    "plt.title('San Jose Trip Count vs. Average Temperature 2015', fontsize=20)"
   ]
  },
  {
   "cell_type": "markdown",
   "metadata": {},
   "source": [
    "### Palo Alto 2014"
   ]
  },
  {
   "cell_type": "code",
   "execution_count": 280,
   "metadata": {
    "collapsed": false
   },
   "outputs": [],
   "source": [
    "# pa weather and trip data\n",
    "PA_weather_2014 = weather_2014_for_me[weather_2014_for_me['city']=='Palo Alto']\n",
    "PA_trip_data_2014 = trip_data_2014_for_me[trip_data_2014_for_me['start_city'] =='Palo Alto']\n",
    "\n",
    "PA_all_2014 = pd.merge(PA_trip_data_2014, PA_weather_2014,on='date')\n",
    "PA_all_2014 = PA_all_2014.drop(['start_city', 'month_x'], axis=1)\n",
    "PA_all_2014 = PA_all_2014.rename(columns={'month_y': 'month'})"
   ]
  },
  {
   "cell_type": "code",
   "execution_count": 281,
   "metadata": {
    "collapsed": false
   },
   "outputs": [
    {
     "data": {
      "text/html": [
       "<div>\n",
       "<table border=\"1\" class=\"dataframe\">\n",
       "  <thead>\n",
       "    <tr style=\"text-align: right;\">\n",
       "      <th></th>\n",
       "      <th>date</th>\n",
       "      <th>trip_time</th>\n",
       "      <th>user_type</th>\n",
       "      <th>mean_temp</th>\n",
       "      <th>mean_wind</th>\n",
       "      <th>season</th>\n",
       "      <th>city</th>\n",
       "      <th>month</th>\n",
       "    </tr>\n",
       "  </thead>\n",
       "  <tbody>\n",
       "    <tr>\n",
       "      <th>0</th>\n",
       "      <td>2013-09-01</td>\n",
       "      <td>99.100000</td>\n",
       "      <td>Customer</td>\n",
       "      <td>71</td>\n",
       "      <td>7</td>\n",
       "      <td>Autumn</td>\n",
       "      <td>Palo Alto</td>\n",
       "      <td>9</td>\n",
       "    </tr>\n",
       "    <tr>\n",
       "      <th>1</th>\n",
       "      <td>2013-09-01</td>\n",
       "      <td>106.066667</td>\n",
       "      <td>Customer</td>\n",
       "      <td>71</td>\n",
       "      <td>7</td>\n",
       "      <td>Autumn</td>\n",
       "      <td>Palo Alto</td>\n",
       "      <td>9</td>\n",
       "    </tr>\n",
       "    <tr>\n",
       "      <th>2</th>\n",
       "      <td>2013-09-01</td>\n",
       "      <td>85.816667</td>\n",
       "      <td>Customer</td>\n",
       "      <td>71</td>\n",
       "      <td>7</td>\n",
       "      <td>Autumn</td>\n",
       "      <td>Palo Alto</td>\n",
       "      <td>9</td>\n",
       "    </tr>\n",
       "    <tr>\n",
       "      <th>3</th>\n",
       "      <td>2013-09-01</td>\n",
       "      <td>84.266667</td>\n",
       "      <td>Customer</td>\n",
       "      <td>71</td>\n",
       "      <td>7</td>\n",
       "      <td>Autumn</td>\n",
       "      <td>Palo Alto</td>\n",
       "      <td>9</td>\n",
       "    </tr>\n",
       "    <tr>\n",
       "      <th>4</th>\n",
       "      <td>2013-09-01</td>\n",
       "      <td>88.016667</td>\n",
       "      <td>Customer</td>\n",
       "      <td>71</td>\n",
       "      <td>7</td>\n",
       "      <td>Autumn</td>\n",
       "      <td>Palo Alto</td>\n",
       "      <td>9</td>\n",
       "    </tr>\n",
       "  </tbody>\n",
       "</table>\n",
       "</div>"
      ],
      "text/plain": [
       "        date   trip_time user_type  mean_temp  mean_wind  season       city  \\\n",
       "0 2013-09-01   99.100000  Customer         71          7  Autumn  Palo Alto   \n",
       "1 2013-09-01  106.066667  Customer         71          7  Autumn  Palo Alto   \n",
       "2 2013-09-01   85.816667  Customer         71          7  Autumn  Palo Alto   \n",
       "3 2013-09-01   84.266667  Customer         71          7  Autumn  Palo Alto   \n",
       "4 2013-09-01   88.016667  Customer         71          7  Autumn  Palo Alto   \n",
       "\n",
       "   month  \n",
       "0      9  \n",
       "1      9  \n",
       "2      9  \n",
       "3      9  \n",
       "4      9  "
      ]
     },
     "execution_count": 281,
     "metadata": {},
     "output_type": "execute_result"
    }
   ],
   "source": [
    "# pa by user statistics\n",
    "PA_all_2014.head()"
   ]
  },
  {
   "cell_type": "code",
   "execution_count": 282,
   "metadata": {
    "collapsed": true
   },
   "outputs": [],
   "source": [
    "# PA DATA PER MONTH\n",
    "PA_0913_result = trip_count_to_frame(PA_all_2014, 'month', 9)\n",
    "PA_1013_result = trip_count_to_frame(PA_all_2014, 'month', 10)\n",
    "PA_1113_result = trip_count_to_frame(PA_all_2014, 'month', 11)\n",
    "PA_1213_result = trip_count_to_frame(PA_all_2014, 'month', 12)\n",
    "PA_0114_result = trip_count_to_frame(PA_all_2014, 'month', 1)\n",
    "PA_0214_result = trip_count_to_frame(PA_all_2014, 'month', 2)\n",
    "PA_0314_result = trip_count_to_frame(PA_all_2014, 'month', 3)\n",
    "PA_0414_result = trip_count_to_frame(PA_all_2014, 'month', 4)\n",
    "PA_0514_result = trip_count_to_frame(PA_all_2014, 'month', 5)\n",
    "PA_0614_result = trip_count_to_frame(PA_all_2014, 'month', 6)\n",
    "PA_0714_result = trip_count_to_frame(PA_all_2014, 'month', 7)\n",
    "PA_0814_result = trip_count_to_frame(PA_all_2014, 'month', 8)\n",
    "# concat all the above dataframes\n",
    "PA_trip_count_month_2014_all = pd.concat([PA_0913_result,PA_1013_result,PA_1113_result,PA_1213_result,PA_0114_result,\n",
    "                  PA_0214_result,PA_0314_result,PA_0514_result,PA_0614_result,PA_0714_result,\n",
    "                  PA_0814_result])\n",
    "PA_trip_count_month_2014_all['mean_temp'] = 'NaN'"
   ]
  },
  {
   "cell_type": "code",
   "execution_count": 283,
   "metadata": {
    "collapsed": false
   },
   "outputs": [
    {
     "name": "stderr",
     "output_type": "stream",
     "text": [
      "//anaconda/lib/python3.5/site-packages/pandas/core/indexing.py:117: SettingWithCopyWarning: \n",
      "A value is trying to be set on a copy of a slice from a DataFrame\n",
      "\n",
      "See the caveats in the documentation: http://pandas.pydata.org/pandas-docs/stable/indexing.html#indexing-view-versus-copy\n",
      "  self._setitem_with_indexer(indexer, value)\n"
     ]
    },
    {
     "data": {
      "text/html": [
       "<div>\n",
       "<table border=\"1\" class=\"dataframe\">\n",
       "  <thead>\n",
       "    <tr style=\"text-align: right;\">\n",
       "      <th>user_type</th>\n",
       "      <th>Customer</th>\n",
       "      <th>Subscriber</th>\n",
       "      <th>mean_temp</th>\n",
       "    </tr>\n",
       "  </thead>\n",
       "  <tbody>\n",
       "    <tr>\n",
       "      <th>9</th>\n",
       "      <td>211</td>\n",
       "      <td>111</td>\n",
       "      <td>68.5497</td>\n",
       "    </tr>\n",
       "    <tr>\n",
       "      <th>10</th>\n",
       "      <td>169</td>\n",
       "      <td>208</td>\n",
       "      <td>62.1936</td>\n",
       "    </tr>\n",
       "    <tr>\n",
       "      <th>11</th>\n",
       "      <td>145</td>\n",
       "      <td>148</td>\n",
       "      <td>57.0648</td>\n",
       "    </tr>\n",
       "    <tr>\n",
       "      <th>12</th>\n",
       "      <td>81</td>\n",
       "      <td>131</td>\n",
       "      <td>48.6698</td>\n",
       "    </tr>\n",
       "    <tr>\n",
       "      <th>1</th>\n",
       "      <td>99</td>\n",
       "      <td>165</td>\n",
       "      <td>54.7273</td>\n",
       "    </tr>\n",
       "  </tbody>\n",
       "</table>\n",
       "</div>"
      ],
      "text/plain": [
       "user_type  Customer  Subscriber mean_temp\n",
       "9               211         111   68.5497\n",
       "10              169         208   62.1936\n",
       "11              145         148   57.0648\n",
       "12               81         131   48.6698\n",
       "1                99         165   54.7273"
      ]
     },
     "execution_count": 283,
     "metadata": {},
     "output_type": "execute_result"
    }
   ],
   "source": [
    "# add avg temp to table\n",
    "PA_trip_count_month_2014_all = add_avg_temp_to_data(PA_all_2014, PA_trip_count_month_2014_all, 'month', sort_range_month)\n",
    "PA_trip_count_month_2014_all.head()"
   ]
  },
  {
   "cell_type": "code",
   "execution_count": 284,
   "metadata": {
    "collapsed": false
   },
   "outputs": [
    {
     "data": {
      "text/plain": [
       "<matplotlib.text.Text at 0x13f474fd0>"
      ]
     },
     "execution_count": 284,
     "metadata": {},
     "output_type": "execute_result"
    },
    {
     "data": {
      "image/png": "[encoded data removed]",
      "text/plain": [
       "<matplotlib.figure.Figure at 0x137f9b048>"
      ]
     },
     "metadata": {},
     "output_type": "display_data"
    }
   ],
   "source": [
    "# plot SF 2014 trip count v. avg weather for 12 months in one plot\n",
    "fig = plt.figure() # Create matplotlib figure\n",
    "\n",
    "ax = fig.add_subplot(111) # Create matplotlib axes\n",
    "ax2 = ax.twinx() \n",
    "PA_trip_count_month_2014_all.Customer.plot(kind='bar',color='red',ax=ax,width=0.3,legend=True, position=0,figsize=((12,10)))\n",
    "PA_trip_count_month_2014_all.Subscriber.plot(kind='bar',color='blue', ax=ax,width=0.3, position = -1, legend=True)\n",
    "PA_trip_count_month_2014_all.mean_temp.plot.area(ax=ax2,use_index=False, color='c',stacked=False,legend=True, alpha=0.3)\n",
    "ax2.set_ylabel('average temperature',fontsize=20)\n",
    "ax.set_ylabel('trip count per user type',fontsize=20)\n",
    "plt.title('Palo Alto Trip Count vs. Average Temperature 2014', fontsize=20)"
   ]
  },
  {
   "cell_type": "markdown",
   "metadata": {},
   "source": [
    "### Palo Alto 2015"
   ]
  },
  {
   "cell_type": "code",
   "execution_count": 285,
   "metadata": {
    "collapsed": true
   },
   "outputs": [],
   "source": [
    "# sf weather and trip data\n",
    "PA_weather_2015 = weather_2015_for_me[weather_2015_for_me['city']=='Palo Alto']\n",
    "PA_trip_data_2015 = trip_data_2015_for_me[trip_data_2015_for_me['start_city'] =='Palo Alto']\n",
    "\n",
    "PA_all_2015 = pd.merge(PA_trip_data_2015, PA_weather_2015,on='date')\n",
    "PA_all_2015 = PA_all_2015.drop(['start_city', 'month_x'], axis=1)\n",
    "PA_all_2015 = PA_all_2015.rename(columns={'month_y': 'month'})"
   ]
  },
  {
   "cell_type": "code",
   "execution_count": 286,
   "metadata": {
    "collapsed": false
   },
   "outputs": [
    {
     "data": {
      "text/html": [
       "<div>\n",
       "<table border=\"1\" class=\"dataframe\">\n",
       "  <thead>\n",
       "    <tr style=\"text-align: right;\">\n",
       "      <th></th>\n",
       "      <th>date</th>\n",
       "      <th>trip_time</th>\n",
       "      <th>user_type</th>\n",
       "      <th>mean_temp</th>\n",
       "      <th>mean_wind</th>\n",
       "      <th>season</th>\n",
       "      <th>city</th>\n",
       "      <th>month</th>\n",
       "    </tr>\n",
       "  </thead>\n",
       "  <tbody>\n",
       "    <tr>\n",
       "      <th>0</th>\n",
       "      <td>2014-09-01</td>\n",
       "      <td>227.250000</td>\n",
       "      <td>Customer</td>\n",
       "      <td>72</td>\n",
       "      <td>6</td>\n",
       "      <td>Autumn</td>\n",
       "      <td>Palo Alto</td>\n",
       "      <td>9</td>\n",
       "    </tr>\n",
       "    <tr>\n",
       "      <th>1</th>\n",
       "      <td>2014-09-02</td>\n",
       "      <td>10.550000</td>\n",
       "      <td>Subscriber</td>\n",
       "      <td>66</td>\n",
       "      <td>10</td>\n",
       "      <td>Autumn</td>\n",
       "      <td>Palo Alto</td>\n",
       "      <td>9</td>\n",
       "    </tr>\n",
       "    <tr>\n",
       "      <th>2</th>\n",
       "      <td>2014-09-02</td>\n",
       "      <td>59.433333</td>\n",
       "      <td>Customer</td>\n",
       "      <td>66</td>\n",
       "      <td>10</td>\n",
       "      <td>Autumn</td>\n",
       "      <td>Palo Alto</td>\n",
       "      <td>9</td>\n",
       "    </tr>\n",
       "    <tr>\n",
       "      <th>3</th>\n",
       "      <td>2014-09-02</td>\n",
       "      <td>4.550000</td>\n",
       "      <td>Customer</td>\n",
       "      <td>66</td>\n",
       "      <td>10</td>\n",
       "      <td>Autumn</td>\n",
       "      <td>Palo Alto</td>\n",
       "      <td>9</td>\n",
       "    </tr>\n",
       "    <tr>\n",
       "      <th>4</th>\n",
       "      <td>2014-09-02</td>\n",
       "      <td>12.233333</td>\n",
       "      <td>Customer</td>\n",
       "      <td>66</td>\n",
       "      <td>10</td>\n",
       "      <td>Autumn</td>\n",
       "      <td>Palo Alto</td>\n",
       "      <td>9</td>\n",
       "    </tr>\n",
       "  </tbody>\n",
       "</table>\n",
       "</div>"
      ],
      "text/plain": [
       "        date   trip_time   user_type  mean_temp  mean_wind  season       city  \\\n",
       "0 2014-09-01  227.250000    Customer         72          6  Autumn  Palo Alto   \n",
       "1 2014-09-02   10.550000  Subscriber         66         10  Autumn  Palo Alto   \n",
       "2 2014-09-02   59.433333    Customer         66         10  Autumn  Palo Alto   \n",
       "3 2014-09-02    4.550000    Customer         66         10  Autumn  Palo Alto   \n",
       "4 2014-09-02   12.233333    Customer         66         10  Autumn  Palo Alto   \n",
       "\n",
       "   month  \n",
       "0      9  \n",
       "1      9  \n",
       "2      9  \n",
       "3      9  \n",
       "4      9  "
      ]
     },
     "execution_count": 286,
     "metadata": {},
     "output_type": "execute_result"
    }
   ],
   "source": [
    "# sf by user statistics\n",
    "PA_all_2015.head()"
   ]
  },
  {
   "cell_type": "code",
   "execution_count": 287,
   "metadata": {
    "collapsed": true
   },
   "outputs": [],
   "source": [
    "# SF DATA PER MONTH\n",
    "PA_0914_result = trip_count_to_frame(PA_all_2015, 'month', 9)\n",
    "PA_1014_result = trip_count_to_frame(PA_all_2015, 'month', 10)\n",
    "PA_1114_result = trip_count_to_frame(PA_all_2015, 'month', 11)\n",
    "PA_1214_result = trip_count_to_frame(PA_all_2015, 'month', 12)\n",
    "PA_0115_result = trip_count_to_frame(PA_all_2015, 'month', 1)\n",
    "PA_0215_result = trip_count_to_frame(PA_all_2015, 'month', 2)\n",
    "PA_0315_result = trip_count_to_frame(PA_all_2015, 'month', 3)\n",
    "PA_0415_result = trip_count_to_frame(PA_all_2015, 'month', 4)\n",
    "PA_0515_result = trip_count_to_frame(PA_all_2015, 'month', 5)\n",
    "PA_0615_result = trip_count_to_frame(PA_all_2015, 'month', 6)\n",
    "PA_0715_result = trip_count_to_frame(PA_all_2015, 'month', 7)\n",
    "PA_0815_result = trip_count_to_frame(PA_all_2015, 'month', 8)\n",
    "# concat all the above dataframes\n",
    "PA_trip_count_month_2015_all = pd.concat([PA_0914_result,PA_1014_result,PA_1114_result,PA_1214_result,PA_0115_result,\n",
    "                  PA_0215_result,PA_0315_result,PA_0515_result,PA_0615_result,PA_0715_result,\n",
    "                  PA_0815_result])\n",
    "PA_trip_count_month_2015_all['mean_temp'] = 'NaN'"
   ]
  },
  {
   "cell_type": "code",
   "execution_count": 288,
   "metadata": {
    "collapsed": false
   },
   "outputs": [
    {
     "name": "stderr",
     "output_type": "stream",
     "text": [
      "//anaconda/lib/python3.5/site-packages/pandas/core/indexing.py:117: SettingWithCopyWarning: \n",
      "A value is trying to be set on a copy of a slice from a DataFrame\n",
      "\n",
      "See the caveats in the documentation: http://pandas.pydata.org/pandas-docs/stable/indexing.html#indexing-view-versus-copy\n",
      "  self._setitem_with_indexer(indexer, value)\n"
     ]
    },
    {
     "data": {
      "text/html": [
       "<div>\n",
       "<table border=\"1\" class=\"dataframe\">\n",
       "  <thead>\n",
       "    <tr style=\"text-align: right;\">\n",
       "      <th>user_type</th>\n",
       "      <th>Customer</th>\n",
       "      <th>Subscriber</th>\n",
       "      <th>mean_temp</th>\n",
       "    </tr>\n",
       "  </thead>\n",
       "  <tbody>\n",
       "    <tr>\n",
       "      <th>9</th>\n",
       "      <td>125</td>\n",
       "      <td>170</td>\n",
       "      <td>68.5661</td>\n",
       "    </tr>\n",
       "    <tr>\n",
       "      <th>10</th>\n",
       "      <td>116</td>\n",
       "      <td>174</td>\n",
       "      <td>66.0621</td>\n",
       "    </tr>\n",
       "    <tr>\n",
       "      <th>11</th>\n",
       "      <td>95</td>\n",
       "      <td>123</td>\n",
       "      <td>58.0872</td>\n",
       "    </tr>\n",
       "    <tr>\n",
       "      <th>12</th>\n",
       "      <td>31</td>\n",
       "      <td>79</td>\n",
       "      <td>56.9091</td>\n",
       "    </tr>\n",
       "    <tr>\n",
       "      <th>1</th>\n",
       "      <td>86</td>\n",
       "      <td>140</td>\n",
       "      <td>52.4381</td>\n",
       "    </tr>\n",
       "  </tbody>\n",
       "</table>\n",
       "</div>"
      ],
      "text/plain": [
       "user_type  Customer  Subscriber mean_temp\n",
       "9               125         170   68.5661\n",
       "10              116         174   66.0621\n",
       "11               95         123   58.0872\n",
       "12               31          79   56.9091\n",
       "1                86         140   52.4381"
      ]
     },
     "execution_count": 288,
     "metadata": {},
     "output_type": "execute_result"
    }
   ],
   "source": [
    "# add avg temp to table\n",
    "PA_trip_count_month_2015_all = add_avg_temp_to_data(PA_all_2015, PA_trip_count_month_2015_all, 'month', sort_range_month)\n",
    "PA_trip_count_month_2015_all.head()"
   ]
  },
  {
   "cell_type": "code",
   "execution_count": 289,
   "metadata": {
    "collapsed": false
   },
   "outputs": [
    {
     "data": {
      "text/plain": [
       "<matplotlib.text.Text at 0x13f2cc390>"
      ]
     },
     "execution_count": 289,
     "metadata": {},
     "output_type": "execute_result"
    },
    {
     "data": {
      "image/png": "[encoded data removed]",
      "text/plain": [
       "<matplotlib.figure.Figure at 0x13ebd00b8>"
      ]
     },
     "metadata": {},
     "output_type": "display_data"
    }
   ],
   "source": [
    "# plot SF 2015 trip count v. avg weather for 12 months in one plot\n",
    "fig = plt.figure() # Create matplotlib figure\n",
    "\n",
    "ax = fig.add_subplot(111) # Create matplotlib axes\n",
    "ax2 = ax.twinx() \n",
    "PA_trip_count_month_2015_all.Customer.plot(kind='bar',color='red',ax=ax,width=0.3,legend=True, position=0,figsize=((12,10)))\n",
    "PA_trip_count_month_2015_all.Subscriber.plot(kind='bar',color='blue', ax=ax,width=0.3, position = -1, legend=True)\n",
    "PA_trip_count_month_2015_all.mean_temp.plot.area(ax=ax2,use_index=False, color='c',stacked=False,legend=True, alpha=0.3)\n",
    "ax2.set_ylabel('average temperature',fontsize=20)\n",
    "ax.set_ylabel('trip count per user type',fontsize=20)\n",
    "plt.title('Palo Alto Trip Count vs. Average Temperature 2015', fontsize=20)"
   ]
  },
  {
   "cell_type": "markdown",
   "metadata": {},
   "source": [
    "### Redwood City 2014"
   ]
  },
  {
   "cell_type": "code",
   "execution_count": 290,
   "metadata": {
    "collapsed": true
   },
   "outputs": [],
   "source": [
    "# rc weather and trip data\n",
    "RC_weather_2014 = weather_2014_for_me[weather_2014_for_me['city']=='Redwood City']\n",
    "RC_trip_data_2014 = trip_data_2014_for_me[trip_data_2014_for_me['start_city'] =='Redwood City']\n",
    "\n",
    "RC_all_2014 = pd.merge(RC_trip_data_2014, RC_weather_2014,on='date')\n",
    "RC_all_2014 = RC_all_2014.drop(['start_city', 'month_x'], axis=1)\n",
    "RC_all_2014 = RC_all_2014.rename(columns={'month_y': 'month'})"
   ]
  },
  {
   "cell_type": "code",
   "execution_count": 291,
   "metadata": {
    "collapsed": false
   },
   "outputs": [
    {
     "data": {
      "text/html": [
       "<div>\n",
       "<table border=\"1\" class=\"dataframe\">\n",
       "  <thead>\n",
       "    <tr style=\"text-align: right;\">\n",
       "      <th></th>\n",
       "      <th>date</th>\n",
       "      <th>trip_time</th>\n",
       "      <th>user_type</th>\n",
       "      <th>mean_temp</th>\n",
       "      <th>mean_wind</th>\n",
       "      <th>season</th>\n",
       "      <th>city</th>\n",
       "      <th>month</th>\n",
       "    </tr>\n",
       "  </thead>\n",
       "  <tbody>\n",
       "    <tr>\n",
       "      <th>0</th>\n",
       "      <td>2013-09-01</td>\n",
       "      <td>4.116667</td>\n",
       "      <td>Subscriber</td>\n",
       "      <td>71</td>\n",
       "      <td>5</td>\n",
       "      <td>Autumn</td>\n",
       "      <td>Redwood City</td>\n",
       "      <td>9</td>\n",
       "    </tr>\n",
       "    <tr>\n",
       "      <th>1</th>\n",
       "      <td>2013-09-01</td>\n",
       "      <td>27.616667</td>\n",
       "      <td>Customer</td>\n",
       "      <td>71</td>\n",
       "      <td>5</td>\n",
       "      <td>Autumn</td>\n",
       "      <td>Redwood City</td>\n",
       "      <td>9</td>\n",
       "    </tr>\n",
       "    <tr>\n",
       "      <th>2</th>\n",
       "      <td>2013-09-01</td>\n",
       "      <td>5.316667</td>\n",
       "      <td>Subscriber</td>\n",
       "      <td>71</td>\n",
       "      <td>5</td>\n",
       "      <td>Autumn</td>\n",
       "      <td>Redwood City</td>\n",
       "      <td>9</td>\n",
       "    </tr>\n",
       "    <tr>\n",
       "      <th>3</th>\n",
       "      <td>2013-09-01</td>\n",
       "      <td>2.650000</td>\n",
       "      <td>Subscriber</td>\n",
       "      <td>71</td>\n",
       "      <td>5</td>\n",
       "      <td>Autumn</td>\n",
       "      <td>Redwood City</td>\n",
       "      <td>9</td>\n",
       "    </tr>\n",
       "    <tr>\n",
       "      <th>4</th>\n",
       "      <td>2013-09-01</td>\n",
       "      <td>435.000000</td>\n",
       "      <td>Customer</td>\n",
       "      <td>71</td>\n",
       "      <td>5</td>\n",
       "      <td>Autumn</td>\n",
       "      <td>Redwood City</td>\n",
       "      <td>9</td>\n",
       "    </tr>\n",
       "  </tbody>\n",
       "</table>\n",
       "</div>"
      ],
      "text/plain": [
       "        date   trip_time   user_type  mean_temp  mean_wind  season  \\\n",
       "0 2013-09-01    4.116667  Subscriber         71          5  Autumn   \n",
       "1 2013-09-01   27.616667    Customer         71          5  Autumn   \n",
       "2 2013-09-01    5.316667  Subscriber         71          5  Autumn   \n",
       "3 2013-09-01    2.650000  Subscriber         71          5  Autumn   \n",
       "4 2013-09-01  435.000000    Customer         71          5  Autumn   \n",
       "\n",
       "           city  month  \n",
       "0  Redwood City      9  \n",
       "1  Redwood City      9  \n",
       "2  Redwood City      9  \n",
       "3  Redwood City      9  \n",
       "4  Redwood City      9  "
      ]
     },
     "execution_count": 291,
     "metadata": {},
     "output_type": "execute_result"
    }
   ],
   "source": [
    "# RC by user statistics\n",
    "RC_all_2014.head()"
   ]
  },
  {
   "cell_type": "code",
   "execution_count": 292,
   "metadata": {
    "collapsed": true
   },
   "outputs": [],
   "source": [
    "# RC DATA PER MONTH\n",
    "RC_0913_result = trip_count_to_frame(RC_all_2014, 'month', 9)\n",
    "RC_1013_result = trip_count_to_frame(RC_all_2014, 'month', 10)\n",
    "RC_1113_result = trip_count_to_frame(RC_all_2014, 'month', 11)\n",
    "RC_1213_result = trip_count_to_frame(RC_all_2014, 'month', 12)\n",
    "RC_0114_result = trip_count_to_frame(RC_all_2014, 'month', 1)\n",
    "RC_0214_result = trip_count_to_frame(RC_all_2014, 'month', 2)\n",
    "RC_0314_result = trip_count_to_frame(RC_all_2014, 'month', 3)\n",
    "RC_0414_result = trip_count_to_frame(RC_all_2014, 'month', 4)\n",
    "RC_0514_result = trip_count_to_frame(RC_all_2014, 'month', 5)\n",
    "RC_0614_result = trip_count_to_frame(RC_all_2014, 'month', 6)\n",
    "RC_0714_result = trip_count_to_frame(RC_all_2014, 'month', 7)\n",
    "RC_0814_result = trip_count_to_frame(RC_all_2014, 'month', 8)\n",
    "# concat all the above dataframes\n",
    "RC_trip_count_month_2014_all = pd.concat([RC_0913_result,RC_1013_result,RC_1113_result,RC_1213_result,RC_0114_result,\n",
    "                  RC_0214_result,RC_0314_result,RC_0514_result,RC_0614_result,RC_0714_result,\n",
    "                  RC_0814_result])\n",
    "RC_trip_count_month_2014_all['mean_temp'] = 'NaN'"
   ]
  },
  {
   "cell_type": "code",
   "execution_count": 293,
   "metadata": {
    "collapsed": false
   },
   "outputs": [
    {
     "name": "stderr",
     "output_type": "stream",
     "text": [
      "//anaconda/lib/python3.5/site-packages/pandas/core/indexing.py:117: SettingWithCopyWarning: \n",
      "A value is trying to be set on a copy of a slice from a DataFrame\n",
      "\n",
      "See the caveats in the documentation: http://pandas.pydata.org/pandas-docs/stable/indexing.html#indexing-view-versus-copy\n",
      "  self._setitem_with_indexer(indexer, value)\n"
     ]
    },
    {
     "data": {
      "text/html": [
       "<div>\n",
       "<table border=\"1\" class=\"dataframe\">\n",
       "  <thead>\n",
       "    <tr style=\"text-align: right;\">\n",
       "      <th>user_type</th>\n",
       "      <th>Customer</th>\n",
       "      <th>Subscriber</th>\n",
       "      <th>mean_temp</th>\n",
       "    </tr>\n",
       "  </thead>\n",
       "  <tbody>\n",
       "    <tr>\n",
       "      <th>9</th>\n",
       "      <td>33</td>\n",
       "      <td>157</td>\n",
       "      <td>67.3474</td>\n",
       "    </tr>\n",
       "    <tr>\n",
       "      <th>10</th>\n",
       "      <td>25</td>\n",
       "      <td>167</td>\n",
       "      <td>60.8646</td>\n",
       "    </tr>\n",
       "    <tr>\n",
       "      <th>11</th>\n",
       "      <td>49</td>\n",
       "      <td>130</td>\n",
       "      <td>56.7374</td>\n",
       "    </tr>\n",
       "    <tr>\n",
       "      <th>12</th>\n",
       "      <td>10</td>\n",
       "      <td>49</td>\n",
       "      <td>47.7797</td>\n",
       "    </tr>\n",
       "    <tr>\n",
       "      <th>1</th>\n",
       "      <td>13</td>\n",
       "      <td>66</td>\n",
       "      <td>52.8354</td>\n",
       "    </tr>\n",
       "  </tbody>\n",
       "</table>\n",
       "</div>"
      ],
      "text/plain": [
       "user_type  Customer  Subscriber mean_temp\n",
       "9                33         157   67.3474\n",
       "10               25         167   60.8646\n",
       "11               49         130   56.7374\n",
       "12               10          49   47.7797\n",
       "1                13          66   52.8354"
      ]
     },
     "execution_count": 293,
     "metadata": {},
     "output_type": "execute_result"
    }
   ],
   "source": [
    "# add avg temp to table\n",
    "RC_trip_count_month_2014_all = add_avg_temp_to_data(RC_all_2014, RC_trip_count_month_2014_all, 'month', sort_range_month)\n",
    "RC_trip_count_month_2014_all.head()"
   ]
  },
  {
   "cell_type": "code",
   "execution_count": 294,
   "metadata": {
    "collapsed": false
   },
   "outputs": [
    {
     "data": {
      "text/plain": [
       "<matplotlib.text.Text at 0x129a6bda0>"
      ]
     },
     "execution_count": 294,
     "metadata": {},
     "output_type": "execute_result"
    },
    {
     "data": {
      "image/png": "[encoded data removed]",
      "text/plain": [
       "<matplotlib.figure.Figure at 0x12a4fe860>"
      ]
     },
     "metadata": {},
     "output_type": "display_data"
    }
   ],
   "source": [
    "# plot RC 2014 trip count v. avg weather for 12 months in one plot\n",
    "fig = plt.figure() # Create matplotlib figure\n",
    "\n",
    "ax = fig.add_subplot(111) # Create matplotlib axes\n",
    "ax2 = ax.twinx() \n",
    "RC_trip_count_month_2014_all.Customer.plot(kind='bar',color='red',ax=ax,width=0.3,legend=True, position=0,figsize=((12,10)))\n",
    "RC_trip_count_month_2014_all.Subscriber.plot(kind='bar',color='blue', ax=ax,width=0.3, position = -1, legend=True)\n",
    "RC_trip_count_month_2014_all.mean_temp.plot.area(ax=ax2,use_index=False, color='c',stacked=False,legend=True, alpha=0.3)\n",
    "ax2.set_ylabel('average temperature',fontsize=20)\n",
    "ax.set_ylabel('trip count per user type',fontsize=20)\n",
    "plt.title('Redwood City Trip Count vs. Average Temperature 2014', fontsize=20)"
   ]
  },
  {
   "cell_type": "markdown",
   "metadata": {},
   "source": [
    "### Redwood City 2015"
   ]
  },
  {
   "cell_type": "code",
   "execution_count": 295,
   "metadata": {
    "collapsed": true
   },
   "outputs": [],
   "source": [
    "# sf weather and trip data\n",
    "RC_weather_2015 = weather_2015_for_me[weather_2015_for_me['city']=='Redwood City']\n",
    "RC_trip_data_2015 = trip_data_2015_for_me[trip_data_2015_for_me['start_city'] =='Redwood City']\n",
    "\n",
    "RC_all_2015 = pd.merge(RC_trip_data_2015, RC_weather_2015,on='date')\n",
    "RC_all_2015 = RC_all_2015.drop(['start_city', 'month_x'], axis=1)\n",
    "RC_all_2015 = RC_all_2015.rename(columns={'month_y': 'month'})"
   ]
  },
  {
   "cell_type": "code",
   "execution_count": 296,
   "metadata": {
    "collapsed": false
   },
   "outputs": [
    {
     "data": {
      "text/html": [
       "<div>\n",
       "<table border=\"1\" class=\"dataframe\">\n",
       "  <thead>\n",
       "    <tr style=\"text-align: right;\">\n",
       "      <th></th>\n",
       "      <th>date</th>\n",
       "      <th>trip_time</th>\n",
       "      <th>user_type</th>\n",
       "      <th>mean_temp</th>\n",
       "      <th>mean_wind</th>\n",
       "      <th>season</th>\n",
       "      <th>city</th>\n",
       "      <th>month</th>\n",
       "    </tr>\n",
       "  </thead>\n",
       "  <tbody>\n",
       "    <tr>\n",
       "      <th>0</th>\n",
       "      <td>2014-09-02</td>\n",
       "      <td>5.216667</td>\n",
       "      <td>Subscriber</td>\n",
       "      <td>68</td>\n",
       "      <td>3</td>\n",
       "      <td>Autumn</td>\n",
       "      <td>Redwood City</td>\n",
       "      <td>9</td>\n",
       "    </tr>\n",
       "    <tr>\n",
       "      <th>1</th>\n",
       "      <td>2014-09-02</td>\n",
       "      <td>5.100000</td>\n",
       "      <td>Subscriber</td>\n",
       "      <td>68</td>\n",
       "      <td>3</td>\n",
       "      <td>Autumn</td>\n",
       "      <td>Redwood City</td>\n",
       "      <td>9</td>\n",
       "    </tr>\n",
       "    <tr>\n",
       "      <th>2</th>\n",
       "      <td>2014-09-03</td>\n",
       "      <td>4.650000</td>\n",
       "      <td>Subscriber</td>\n",
       "      <td>70</td>\n",
       "      <td>4</td>\n",
       "      <td>Autumn</td>\n",
       "      <td>Redwood City</td>\n",
       "      <td>9</td>\n",
       "    </tr>\n",
       "    <tr>\n",
       "      <th>3</th>\n",
       "      <td>2014-09-03</td>\n",
       "      <td>5.066667</td>\n",
       "      <td>Subscriber</td>\n",
       "      <td>70</td>\n",
       "      <td>4</td>\n",
       "      <td>Autumn</td>\n",
       "      <td>Redwood City</td>\n",
       "      <td>9</td>\n",
       "    </tr>\n",
       "    <tr>\n",
       "      <th>4</th>\n",
       "      <td>2014-09-03</td>\n",
       "      <td>7.766667</td>\n",
       "      <td>Subscriber</td>\n",
       "      <td>70</td>\n",
       "      <td>4</td>\n",
       "      <td>Autumn</td>\n",
       "      <td>Redwood City</td>\n",
       "      <td>9</td>\n",
       "    </tr>\n",
       "  </tbody>\n",
       "</table>\n",
       "</div>"
      ],
      "text/plain": [
       "        date  trip_time   user_type  mean_temp  mean_wind  season  \\\n",
       "0 2014-09-02   5.216667  Subscriber         68          3  Autumn   \n",
       "1 2014-09-02   5.100000  Subscriber         68          3  Autumn   \n",
       "2 2014-09-03   4.650000  Subscriber         70          4  Autumn   \n",
       "3 2014-09-03   5.066667  Subscriber         70          4  Autumn   \n",
       "4 2014-09-03   7.766667  Subscriber         70          4  Autumn   \n",
       "\n",
       "           city  month  \n",
       "0  Redwood City      9  \n",
       "1  Redwood City      9  \n",
       "2  Redwood City      9  \n",
       "3  Redwood City      9  \n",
       "4  Redwood City      9  "
      ]
     },
     "execution_count": 296,
     "metadata": {},
     "output_type": "execute_result"
    }
   ],
   "source": [
    "# RC by user statistics\n",
    "RC_all_2015.head()"
   ]
  },
  {
   "cell_type": "code",
   "execution_count": 297,
   "metadata": {
    "collapsed": true
   },
   "outputs": [],
   "source": [
    "# RC DATA PER MONTH\n",
    "RC_0914_result = trip_count_to_frame(RC_all_2015, 'month', 9)\n",
    "RC_1014_result = trip_count_to_frame(RC_all_2015, 'month', 10)\n",
    "RC_1114_result = trip_count_to_frame(RC_all_2015, 'month', 11)\n",
    "RC_1214_result = trip_count_to_frame(RC_all_2015, 'month', 12)\n",
    "RC_0115_result = trip_count_to_frame(RC_all_2015, 'month', 1)\n",
    "RC_0215_result = trip_count_to_frame(RC_all_2015, 'month', 2)\n",
    "RC_0315_result = trip_count_to_frame(RC_all_2015, 'month', 3)\n",
    "RC_0415_result = trip_count_to_frame(RC_all_2015, 'month', 4)\n",
    "RC_0515_result = trip_count_to_frame(RC_all_2015, 'month', 5)\n",
    "RC_0615_result = trip_count_to_frame(RC_all_2015, 'month', 6)\n",
    "RC_0715_result = trip_count_to_frame(RC_all_2015, 'month', 7)\n",
    "RC_0815_result = trip_count_to_frame(RC_all_2015, 'month', 8)\n",
    "# concat all the above dataframes\n",
    "RC_trip_count_month_2015_all = pd.concat([RC_0914_result,RC_1014_result,RC_1114_result,RC_1214_result,RC_0115_result,\n",
    "                  RC_0215_result,RC_0315_result,RC_0515_result,RC_0615_result,RC_0715_result,\n",
    "                  RC_0815_result])\n",
    "RC_trip_count_month_2015_all['mean_temp'] = 'NaN'"
   ]
  },
  {
   "cell_type": "code",
   "execution_count": 298,
   "metadata": {
    "collapsed": false
   },
   "outputs": [
    {
     "name": "stderr",
     "output_type": "stream",
     "text": [
      "//anaconda/lib/python3.5/site-packages/pandas/core/indexing.py:117: SettingWithCopyWarning: \n",
      "A value is trying to be set on a copy of a slice from a DataFrame\n",
      "\n",
      "See the caveats in the documentation: http://pandas.pydata.org/pandas-docs/stable/indexing.html#indexing-view-versus-copy\n",
      "  self._setitem_with_indexer(indexer, value)\n"
     ]
    },
    {
     "data": {
      "text/html": [
       "<div>\n",
       "<table border=\"1\" class=\"dataframe\">\n",
       "  <thead>\n",
       "    <tr style=\"text-align: right;\">\n",
       "      <th>user_type</th>\n",
       "      <th>Customer</th>\n",
       "      <th>Subscriber</th>\n",
       "      <th>mean_temp</th>\n",
       "    </tr>\n",
       "  </thead>\n",
       "  <tbody>\n",
       "    <tr>\n",
       "      <th>9</th>\n",
       "      <td>23</td>\n",
       "      <td>93</td>\n",
       "      <td>68.1034</td>\n",
       "    </tr>\n",
       "    <tr>\n",
       "      <th>10</th>\n",
       "      <td>18</td>\n",
       "      <td>98</td>\n",
       "      <td>66.4397</td>\n",
       "    </tr>\n",
       "    <tr>\n",
       "      <th>11</th>\n",
       "      <td>27</td>\n",
       "      <td>66</td>\n",
       "      <td>58.1828</td>\n",
       "    </tr>\n",
       "    <tr>\n",
       "      <th>12</th>\n",
       "      <td>11</td>\n",
       "      <td>48</td>\n",
       "      <td>55.5593</td>\n",
       "    </tr>\n",
       "    <tr>\n",
       "      <th>1</th>\n",
       "      <td>33</td>\n",
       "      <td>127</td>\n",
       "      <td>53.0812</td>\n",
       "    </tr>\n",
       "  </tbody>\n",
       "</table>\n",
       "</div>"
      ],
      "text/plain": [
       "user_type  Customer  Subscriber mean_temp\n",
       "9                23          93   68.1034\n",
       "10               18          98   66.4397\n",
       "11               27          66   58.1828\n",
       "12               11          48   55.5593\n",
       "1                33         127   53.0812"
      ]
     },
     "execution_count": 298,
     "metadata": {},
     "output_type": "execute_result"
    }
   ],
   "source": [
    "# add avg temp to table\n",
    "RC_trip_count_month_2015_all = add_avg_temp_to_data(RC_all_2015, RC_trip_count_month_2015_all, 'month', sort_range_month)\n",
    "RC_trip_count_month_2015_all.head()"
   ]
  },
  {
   "cell_type": "code",
   "execution_count": 299,
   "metadata": {
    "collapsed": false
   },
   "outputs": [
    {
     "data": {
      "text/plain": [
       "<matplotlib.text.Text at 0x14375d780>"
      ]
     },
     "execution_count": 299,
     "metadata": {},
     "output_type": "execute_result"
    },
    {
     "data": {
      "image/png": "[encoded data removed]",
      "text/plain": [
       "<matplotlib.figure.Figure at 0x14359f160>"
      ]
     },
     "metadata": {},
     "output_type": "display_data"
    }
   ],
   "source": [
    "# plot RC 2015 trip count v. avg weather for 12 months in one plot\n",
    "fig = plt.figure() # Create matplotlib figure\n",
    "\n",
    "ax = fig.add_subplot(111) # Create matplotlib axes\n",
    "ax2 = ax.twinx() \n",
    "RC_trip_count_month_2015_all.Customer.plot(kind='bar',color='red',ax=ax,width=0.3,legend=True, position=0,figsize=((12,10)))\n",
    "RC_trip_count_month_2015_all.Subscriber.plot(kind='bar',color='blue', ax=ax,width=0.3, position = -1, legend=True)\n",
    "RC_trip_count_month_2015_all.mean_temp.plot.area(ax=ax2,use_index=False, color='c',stacked=False,legend=True, alpha=0.3)\n",
    "ax2.set_ylabel('average temperature',fontsize=20)\n",
    "ax.set_ylabel('trip count per user type',fontsize=20)\n",
    "plt.title('Redwood City Trip Count vs. Average Temperature 2015', fontsize=20)"
   ]
  },
  {
   "cell_type": "markdown",
   "metadata": {},
   "source": [
    "### Mountain View 2014"
   ]
  },
  {
   "cell_type": "code",
   "execution_count": 300,
   "metadata": {
    "collapsed": true
   },
   "outputs": [],
   "source": [
    "# mv weather and trip data\n",
    "MV_weather_2014 = weather_2014_for_me[weather_2014_for_me['city']=='Mountain View']\n",
    "MV_trip_data_2014 = trip_data_2014_for_me[trip_data_2014_for_me['start_city'] =='Mountain View']\n",
    "\n",
    "MV_all_2014 = pd.merge(MV_trip_data_2014, MV_weather_2014,on='date')\n",
    "MV_all_2014 = MV_all_2014.drop(['start_city', 'month_x'], axis=1)\n",
    "MV_all_2014 = MV_all_2014.rename(columns={'month_y': 'month'})"
   ]
  },
  {
   "cell_type": "code",
   "execution_count": 301,
   "metadata": {
    "collapsed": false
   },
   "outputs": [
    {
     "data": {
      "text/html": [
       "<div>\n",
       "<table border=\"1\" class=\"dataframe\">\n",
       "  <thead>\n",
       "    <tr style=\"text-align: right;\">\n",
       "      <th></th>\n",
       "      <th>date</th>\n",
       "      <th>trip_time</th>\n",
       "      <th>user_type</th>\n",
       "      <th>mean_temp</th>\n",
       "      <th>mean_wind</th>\n",
       "      <th>season</th>\n",
       "      <th>city</th>\n",
       "      <th>month</th>\n",
       "    </tr>\n",
       "  </thead>\n",
       "  <tbody>\n",
       "    <tr>\n",
       "      <th>0</th>\n",
       "      <td>2013-09-01</td>\n",
       "      <td>19.016667</td>\n",
       "      <td>Customer</td>\n",
       "      <td>70</td>\n",
       "      <td>4</td>\n",
       "      <td>Autumn</td>\n",
       "      <td>Mountain View</td>\n",
       "      <td>9</td>\n",
       "    </tr>\n",
       "    <tr>\n",
       "      <th>1</th>\n",
       "      <td>2013-09-01</td>\n",
       "      <td>20.600000</td>\n",
       "      <td>Customer</td>\n",
       "      <td>70</td>\n",
       "      <td>4</td>\n",
       "      <td>Autumn</td>\n",
       "      <td>Mountain View</td>\n",
       "      <td>9</td>\n",
       "    </tr>\n",
       "    <tr>\n",
       "      <th>2</th>\n",
       "      <td>2013-09-01</td>\n",
       "      <td>7.550000</td>\n",
       "      <td>Customer</td>\n",
       "      <td>70</td>\n",
       "      <td>4</td>\n",
       "      <td>Autumn</td>\n",
       "      <td>Mountain View</td>\n",
       "      <td>9</td>\n",
       "    </tr>\n",
       "    <tr>\n",
       "      <th>3</th>\n",
       "      <td>2013-09-01</td>\n",
       "      <td>70.400000</td>\n",
       "      <td>Customer</td>\n",
       "      <td>70</td>\n",
       "      <td>4</td>\n",
       "      <td>Autumn</td>\n",
       "      <td>Mountain View</td>\n",
       "      <td>9</td>\n",
       "    </tr>\n",
       "    <tr>\n",
       "      <th>4</th>\n",
       "      <td>2013-09-01</td>\n",
       "      <td>69.700000</td>\n",
       "      <td>Customer</td>\n",
       "      <td>70</td>\n",
       "      <td>4</td>\n",
       "      <td>Autumn</td>\n",
       "      <td>Mountain View</td>\n",
       "      <td>9</td>\n",
       "    </tr>\n",
       "  </tbody>\n",
       "</table>\n",
       "</div>"
      ],
      "text/plain": [
       "        date  trip_time user_type  mean_temp  mean_wind  season  \\\n",
       "0 2013-09-01  19.016667  Customer         70          4  Autumn   \n",
       "1 2013-09-01  20.600000  Customer         70          4  Autumn   \n",
       "2 2013-09-01   7.550000  Customer         70          4  Autumn   \n",
       "3 2013-09-01  70.400000  Customer         70          4  Autumn   \n",
       "4 2013-09-01  69.700000  Customer         70          4  Autumn   \n",
       "\n",
       "            city  month  \n",
       "0  Mountain View      9  \n",
       "1  Mountain View      9  \n",
       "2  Mountain View      9  \n",
       "3  Mountain View      9  \n",
       "4  Mountain View      9  "
      ]
     },
     "execution_count": 301,
     "metadata": {},
     "output_type": "execute_result"
    }
   ],
   "source": [
    "# mv by user statistics\n",
    "MV_all_2014.head()"
   ]
  },
  {
   "cell_type": "code",
   "execution_count": 302,
   "metadata": {
    "collapsed": true
   },
   "outputs": [],
   "source": [
    "# mv DATA PER MONTH\n",
    "MV_0913_result = trip_count_to_frame(MV_all_2014, 'month', 9)\n",
    "MV_1013_result = trip_count_to_frame(MV_all_2014, 'month', 10)\n",
    "MV_1113_result = trip_count_to_frame(MV_all_2014, 'month', 11)\n",
    "MV_1213_result = trip_count_to_frame(MV_all_2014, 'month', 12)\n",
    "MV_0114_result = trip_count_to_frame(MV_all_2014, 'month', 1)\n",
    "MV_0214_result = trip_count_to_frame(MV_all_2014, 'month', 2)\n",
    "MV_0314_result = trip_count_to_frame(MV_all_2014, 'month', 3)\n",
    "MV_0414_result = trip_count_to_frame(MV_all_2014, 'month', 4)\n",
    "MV_0514_result = trip_count_to_frame(MV_all_2014, 'month', 5)\n",
    "MV_0614_result = trip_count_to_frame(MV_all_2014, 'month', 6)\n",
    "MV_0714_result = trip_count_to_frame(MV_all_2014, 'month', 7)\n",
    "MV_0814_result = trip_count_to_frame(MV_all_2014, 'month', 8)\n",
    "# concat all the above dataframes\n",
    "MV_trip_count_month_2014_all = pd.concat([MV_0913_result,MV_1013_result,MV_1113_result,MV_1213_result,MV_0114_result,\n",
    "                  MV_0214_result,MV_0314_result,MV_0514_result,MV_0614_result,MV_0714_result,\n",
    "                  MV_0814_result])\n",
    "MV_trip_count_month_2014_all['mean_temp'] = 'NaN'"
   ]
  },
  {
   "cell_type": "code",
   "execution_count": 303,
   "metadata": {
    "collapsed": false
   },
   "outputs": [
    {
     "name": "stderr",
     "output_type": "stream",
     "text": [
      "//anaconda/lib/python3.5/site-packages/pandas/core/indexing.py:117: SettingWithCopyWarning: \n",
      "A value is trying to be set on a copy of a slice from a DataFrame\n",
      "\n",
      "See the caveats in the documentation: http://pandas.pydata.org/pandas-docs/stable/indexing.html#indexing-view-versus-copy\n",
      "  self._setitem_with_indexer(indexer, value)\n"
     ]
    },
    {
     "data": {
      "text/html": [
       "<div>\n",
       "<table border=\"1\" class=\"dataframe\">\n",
       "  <thead>\n",
       "    <tr style=\"text-align: right;\">\n",
       "      <th>user_type</th>\n",
       "      <th>Customer</th>\n",
       "      <th>Subscriber</th>\n",
       "      <th>mean_temp</th>\n",
       "    </tr>\n",
       "  </thead>\n",
       "  <tbody>\n",
       "    <tr>\n",
       "      <th>9</th>\n",
       "      <td>116</td>\n",
       "      <td>228</td>\n",
       "      <td>66.5116</td>\n",
       "    </tr>\n",
       "    <tr>\n",
       "      <th>10</th>\n",
       "      <td>82</td>\n",
       "      <td>340</td>\n",
       "      <td>59.2512</td>\n",
       "    </tr>\n",
       "    <tr>\n",
       "      <th>11</th>\n",
       "      <td>92</td>\n",
       "      <td>335</td>\n",
       "      <td>54.2787</td>\n",
       "    </tr>\n",
       "    <tr>\n",
       "      <th>12</th>\n",
       "      <td>75</td>\n",
       "      <td>321</td>\n",
       "      <td>45.1869</td>\n",
       "    </tr>\n",
       "    <tr>\n",
       "      <th>1</th>\n",
       "      <td>90</td>\n",
       "      <td>451</td>\n",
       "      <td>51.305</td>\n",
       "    </tr>\n",
       "  </tbody>\n",
       "</table>\n",
       "</div>"
      ],
      "text/plain": [
       "user_type  Customer  Subscriber mean_temp\n",
       "9               116         228   66.5116\n",
       "10               82         340   59.2512\n",
       "11               92         335   54.2787\n",
       "12               75         321   45.1869\n",
       "1                90         451    51.305"
      ]
     },
     "execution_count": 303,
     "metadata": {},
     "output_type": "execute_result"
    }
   ],
   "source": [
    "# add avg temp to table\n",
    "MV_trip_count_month_2014_all = add_avg_temp_to_data(MV_all_2014, MV_trip_count_month_2014_all, 'month', sort_range_month)\n",
    "MV_trip_count_month_2014_all.head()"
   ]
  },
  {
   "cell_type": "code",
   "execution_count": 304,
   "metadata": {
    "collapsed": false
   },
   "outputs": [
    {
     "data": {
      "text/plain": [
       "<matplotlib.text.Text at 0x14469bf60>"
      ]
     },
     "execution_count": 304,
     "metadata": {},
     "output_type": "execute_result"
    },
    {
     "data": {
      "image/png": "[encoded data removed]",
      "text/plain": [
       "<matplotlib.figure.Figure at 0x1437b37f0>"
      ]
     },
     "metadata": {},
     "output_type": "display_data"
    }
   ],
   "source": [
    "# plot MV 2014 trip count v. avg weather for 12 months in one plot\n",
    "fig = plt.figure() # Create matplotlib figure\n",
    "\n",
    "ax = fig.add_subplot(111) # Create matplotlib axes\n",
    "ax2 = ax.twinx() \n",
    "MV_trip_count_month_2014_all.Customer.plot(kind='bar',color='red',ax=ax,width=0.3,legend=True, position=0,figsize=((12,10)))\n",
    "MV_trip_count_month_2014_all.Subscriber.plot(kind='bar',color='blue', ax=ax,width=0.3, position = -1, legend=True)\n",
    "MV_trip_count_month_2014_all.mean_temp.plot.area(ax=ax2,use_index=False, color='c',stacked=False,legend=True, alpha=0.3)\n",
    "ax2.set_ylabel('average temperature',fontsize=20)\n",
    "ax.set_ylabel('trip count per user type',fontsize=20)\n",
    "plt.title('Mountain View Trip Count vs. Average Temperature 2014', fontsize=20)"
   ]
  },
  {
   "cell_type": "markdown",
   "metadata": {},
   "source": [
    "### Mountain View 2015"
   ]
  },
  {
   "cell_type": "code",
   "execution_count": 305,
   "metadata": {
    "collapsed": true
   },
   "outputs": [],
   "source": [
    "# sf weather and trip data\n",
    "MV_weather_2015 = weather_2015_for_me[weather_2015_for_me['city']=='Mountain View']\n",
    "MV_trip_data_2015 = trip_data_2015_for_me[trip_data_2015_for_me['start_city'] =='Mountain View']\n",
    "\n",
    "MV_all_2015 = pd.merge(MV_trip_data_2015, MV_weather_2015,on='date')\n",
    "MV_all_2015 = MV_all_2015.drop(['start_city', 'month_x'], axis=1)\n",
    "MV_all_2015 = MV_all_2015.rename(columns={'month_y': 'month'})"
   ]
  },
  {
   "cell_type": "code",
   "execution_count": 306,
   "metadata": {
    "collapsed": false
   },
   "outputs": [
    {
     "data": {
      "text/html": [
       "<div>\n",
       "<table border=\"1\" class=\"dataframe\">\n",
       "  <thead>\n",
       "    <tr style=\"text-align: right;\">\n",
       "      <th></th>\n",
       "      <th>date</th>\n",
       "      <th>trip_time</th>\n",
       "      <th>user_type</th>\n",
       "      <th>mean_temp</th>\n",
       "      <th>mean_wind</th>\n",
       "      <th>season</th>\n",
       "      <th>city</th>\n",
       "      <th>month</th>\n",
       "    </tr>\n",
       "  </thead>\n",
       "  <tbody>\n",
       "    <tr>\n",
       "      <th>0</th>\n",
       "      <td>2014-09-01</td>\n",
       "      <td>159.016667</td>\n",
       "      <td>Customer</td>\n",
       "      <td>73</td>\n",
       "      <td>5</td>\n",
       "      <td>Autumn</td>\n",
       "      <td>Mountain View</td>\n",
       "      <td>9</td>\n",
       "    </tr>\n",
       "    <tr>\n",
       "      <th>1</th>\n",
       "      <td>2014-09-01</td>\n",
       "      <td>261.316667</td>\n",
       "      <td>Customer</td>\n",
       "      <td>73</td>\n",
       "      <td>5</td>\n",
       "      <td>Autumn</td>\n",
       "      <td>Mountain View</td>\n",
       "      <td>9</td>\n",
       "    </tr>\n",
       "    <tr>\n",
       "      <th>2</th>\n",
       "      <td>2014-09-01</td>\n",
       "      <td>13.116667</td>\n",
       "      <td>Subscriber</td>\n",
       "      <td>73</td>\n",
       "      <td>5</td>\n",
       "      <td>Autumn</td>\n",
       "      <td>Mountain View</td>\n",
       "      <td>9</td>\n",
       "    </tr>\n",
       "    <tr>\n",
       "      <th>3</th>\n",
       "      <td>2014-09-01</td>\n",
       "      <td>13.650000</td>\n",
       "      <td>Subscriber</td>\n",
       "      <td>73</td>\n",
       "      <td>5</td>\n",
       "      <td>Autumn</td>\n",
       "      <td>Mountain View</td>\n",
       "      <td>9</td>\n",
       "    </tr>\n",
       "    <tr>\n",
       "      <th>4</th>\n",
       "      <td>2014-09-01</td>\n",
       "      <td>7.150000</td>\n",
       "      <td>Subscriber</td>\n",
       "      <td>73</td>\n",
       "      <td>5</td>\n",
       "      <td>Autumn</td>\n",
       "      <td>Mountain View</td>\n",
       "      <td>9</td>\n",
       "    </tr>\n",
       "  </tbody>\n",
       "</table>\n",
       "</div>"
      ],
      "text/plain": [
       "        date   trip_time   user_type  mean_temp  mean_wind  season  \\\n",
       "0 2014-09-01  159.016667    Customer         73          5  Autumn   \n",
       "1 2014-09-01  261.316667    Customer         73          5  Autumn   \n",
       "2 2014-09-01   13.116667  Subscriber         73          5  Autumn   \n",
       "3 2014-09-01   13.650000  Subscriber         73          5  Autumn   \n",
       "4 2014-09-01    7.150000  Subscriber         73          5  Autumn   \n",
       "\n",
       "            city  month  \n",
       "0  Mountain View      9  \n",
       "1  Mountain View      9  \n",
       "2  Mountain View      9  \n",
       "3  Mountain View      9  \n",
       "4  Mountain View      9  "
      ]
     },
     "execution_count": 306,
     "metadata": {},
     "output_type": "execute_result"
    }
   ],
   "source": [
    "# mv by user statistics\n",
    "MV_all_2015.head()"
   ]
  },
  {
   "cell_type": "code",
   "execution_count": 307,
   "metadata": {
    "collapsed": true
   },
   "outputs": [],
   "source": [
    "# mv DATA PER MONTH\n",
    "MV_0914_result = trip_count_to_frame(MV_all_2015, 'month', 9)\n",
    "MV_1014_result = trip_count_to_frame(MV_all_2015, 'month', 10)\n",
    "MV_1114_result = trip_count_to_frame(MV_all_2015, 'month', 11)\n",
    "MV_1214_result = trip_count_to_frame(MV_all_2015, 'month', 12)\n",
    "MV_0115_result = trip_count_to_frame(MV_all_2015, 'month', 1)\n",
    "MV_0215_result = trip_count_to_frame(MV_all_2015, 'month', 2)\n",
    "MV_0315_result = trip_count_to_frame(MV_all_2015, 'month', 3)\n",
    "MV_0415_result = trip_count_to_frame(MV_all_2015, 'month', 4)\n",
    "MV_0515_result = trip_count_to_frame(MV_all_2015, 'month', 5)\n",
    "MV_0615_result = trip_count_to_frame(MV_all_2015, 'month', 6)\n",
    "MV_0715_result = trip_count_to_frame(MV_all_2015, 'month', 7)\n",
    "MV_0815_result = trip_count_to_frame(MV_all_2015, 'month', 8)\n",
    "# concat all the above dataframes\n",
    "MV_trip_count_month_2015_all = pd.concat([MV_0914_result,MV_1014_result,MV_1114_result,MV_1214_result,MV_0115_result,\n",
    "                MV_0215_result,MV_0315_result,MV_0515_result,MV_0615_result,MV_0715_result,\n",
    "                  MV_0815_result])\n",
    "MV_trip_count_month_2015_all['mean_temp'] = 'NaN'"
   ]
  },
  {
   "cell_type": "code",
   "execution_count": 310,
   "metadata": {
    "collapsed": false
   },
   "outputs": [
    {
     "name": "stderr",
     "output_type": "stream",
     "text": [
      "//anaconda/lib/python3.5/site-packages/pandas/core/indexing.py:117: SettingWithCopyWarning: \n",
      "A value is trying to be set on a copy of a slice from a DataFrame\n",
      "\n",
      "See the caveats in the documentation: http://pandas.pydata.org/pandas-docs/stable/indexing.html#indexing-view-versus-copy\n",
      "  self._setitem_with_indexer(indexer, value)\n"
     ]
    },
    {
     "data": {
      "text/html": [
       "<div>\n",
       "<table border=\"1\" class=\"dataframe\">\n",
       "  <thead>\n",
       "    <tr style=\"text-align: right;\">\n",
       "      <th>user_type</th>\n",
       "      <th>Customer</th>\n",
       "      <th>Subscriber</th>\n",
       "      <th>mean_temp</th>\n",
       "    </tr>\n",
       "  </thead>\n",
       "  <tbody>\n",
       "    <tr>\n",
       "      <th>9</th>\n",
       "      <td>94</td>\n",
       "      <td>815</td>\n",
       "      <td>69.1859</td>\n",
       "    </tr>\n",
       "    <tr>\n",
       "      <th>10</th>\n",
       "      <td>77</td>\n",
       "      <td>866</td>\n",
       "      <td>66.0912</td>\n",
       "    </tr>\n",
       "    <tr>\n",
       "      <th>11</th>\n",
       "      <td>89</td>\n",
       "      <td>583</td>\n",
       "      <td>58.9182</td>\n",
       "    </tr>\n",
       "    <tr>\n",
       "      <th>12</th>\n",
       "      <td>38</td>\n",
       "      <td>432</td>\n",
       "      <td>57.6766</td>\n",
       "    </tr>\n",
       "    <tr>\n",
       "      <th>1</th>\n",
       "      <td>103</td>\n",
       "      <td>619</td>\n",
       "      <td>53.2313</td>\n",
       "    </tr>\n",
       "  </tbody>\n",
       "</table>\n",
       "</div>"
      ],
      "text/plain": [
       "user_type  Customer  Subscriber mean_temp\n",
       "9                94         815   69.1859\n",
       "10               77         866   66.0912\n",
       "11               89         583   58.9182\n",
       "12               38         432   57.6766\n",
       "1               103         619   53.2313"
      ]
     },
     "execution_count": 310,
     "metadata": {},
     "output_type": "execute_result"
    }
   ],
   "source": [
    "# add avg temp to table\n",
    "MV_trip_count_month_2015_all = add_avg_temp_to_data(MV_all_2015, MV_trip_count_month_2015_all, 'month', sort_range_month)\n",
    "MV_trip_count_month_2015_all.head()"
   ]
  },
  {
   "cell_type": "code",
   "execution_count": 311,
   "metadata": {
    "collapsed": false
   },
   "outputs": [
    {
     "data": {
      "text/plain": [
       "<matplotlib.text.Text at 0x145e925c0>"
      ]
     },
     "execution_count": 311,
     "metadata": {},
     "output_type": "execute_result"
    },
    {
     "data": {
      "image/png": "[encoded data removed]",
      "text/plain": [
       "<matplotlib.figure.Figure at 0x145e2ac50>"
      ]
     },
     "metadata": {},
     "output_type": "display_data"
    }
   ],
   "source": [
    "# plot mv 2015 trip count v. avg weather for 12 months in one plot\n",
    "fig = plt.figure() # Create matplotlib figure\n",
    "\n",
    "ax = fig.add_subplot(111) # Create matplotlib axes\n",
    "ax2 = ax.twinx() \n",
    "MV_trip_count_month_2015_all.Customer.plot(kind='bar',color='red',ax=ax,width=0.3,legend=True, position=0,figsize=((12,10)))\n",
    "MV_trip_count_month_2015_all.Subscriber.plot(kind='bar',color='blue', ax=ax,width=0.3, position = -1, legend=True)\n",
    "MV_trip_count_month_2015_all.mean_temp.plot.area(ax=ax2,use_index=False, color='c',stacked=False,legend=True, alpha=0.3)\n",
    "ax2.set_ylabel('average temperature',fontsize=20)\n",
    "ax.set_ylabel('trip count per user type',fontsize=20)\n",
    "plt.title('Mountain View Trip Count vs. Average Temperature 2015', fontsize=20)"
   ]
  },
  {
   "cell_type": "code",
   "execution_count": null,
   "metadata": {
    "collapsed": true
   },
   "outputs": [],
   "source": []
  }
 ],
 "metadata": {
  "kernelspec": {
   "display_name": "Python 3",
   "language": "python",
   "name": "python3"
  },
  "language_info": {
   "codemirror_mode": {
    "name": "ipython",
    "version": 3
   },
   "file_extension": ".py",
   "mimetype": "text/x-python",
   "name": "python",
   "nbconvert_exporter": "python",
   "pygments_lexer": "ipython3",
   "version": "3.5.1"
  }
 },
 "nbformat": 4,
 "nbformat_minor": 0
}
